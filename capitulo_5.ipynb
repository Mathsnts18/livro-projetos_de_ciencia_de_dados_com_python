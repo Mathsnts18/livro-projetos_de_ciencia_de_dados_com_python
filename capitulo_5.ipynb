{
 "cells": [
  {
   "cell_type": "markdown",
   "metadata": {},
   "source": [
    "# Projetos de ciência de dados com Python\n",
    "\n",
    "## Capítulo 5 - Árvores de decisão e florestas aleatórias"
   ]
  },
  {
   "cell_type": "markdown",
   "metadata": {},
   "source": [
    "### Exercícios\n",
    "\n",
    "- Exercício 19: Uma árvore de decisão no scikit-learn\n",
    "\n",
    "- Exercício 20: Encontrando hiperparâmetros ótimos para uma árvore de decisão.\n",
    "\n",
    "- Exercício 21: Ajustando uma floresta aleatória\n",
    "\n",
    "- Atividade 5: Busca em grade na validação cruzada com floresta aleatória\n",
    "\n",
    "---"
   ]
  },
  {
   "cell_type": "markdown",
   "metadata": {},
   "source": [
    "### Exercício 19: Uma árvore de decisão no scikit-learn\n",
    "\n",
    "Neste exercício, usaremos os dados do estudo de caso para criar uma árvore de decisão e especificaremos a profundidade máxima. Também empregaremos uma funcionalidade útil para visualizar a árvore. Execulte as etapas a seguir para fazer o exercício"
   ]
  },
  {
   "cell_type": "markdown",
   "metadata": {},
   "source": [
    "1. Inicie um novo notebook para este capítulo. Para começar, carregue todos os pacotes que usamos, e mais um, *graphviz*, para podermos visualizar árvores de decisão:"
   ]
  },
  {
   "cell_type": "code",
   "execution_count": 6,
   "metadata": {},
   "outputs": [],
   "source": [
    "import pandas as pd\n",
    "import numpy as np\n",
    "import matplotlib.pyplot as plt\n",
    "%matplotlib inline\n",
    "import matplotlib as mpl\n",
    "import graphviz"
   ]
  },
  {
   "cell_type": "markdown",
   "metadata": {},
   "source": [
    "2. Carregue os dados limpos do estudo de caso:"
   ]
  },
  {
   "cell_type": "code",
   "execution_count": 7,
   "metadata": {},
   "outputs": [],
   "source": [
    "df = pd.read_csv('/home/matheus/projetos/du-starter/chapter_1_cleaned_data.csv')"
   ]
  },
  {
   "cell_type": "markdown",
   "metadata": {},
   "source": [
    "3. Obtenha uma lista com os nomes de colunas do DataFrame:"
   ]
  },
  {
   "cell_type": "code",
   "execution_count": 8,
   "metadata": {},
   "outputs": [],
   "source": [
    "features_response = df.columns.tolist()"
   ]
  },
  {
   "cell_type": "markdown",
   "metadata": {},
   "source": [
    "4. Crie uma lista de colunas para remover as que não sejam características ou a variável de resposta:"
   ]
  },
  {
   "cell_type": "code",
   "execution_count": 9,
   "metadata": {},
   "outputs": [],
   "source": [
    "items_to_remove = ['ID', 'SEX', 'PAY_2', 'PAY_3', 'PAY_4', 'PAY_5', 'PAY_6', 'EDUCATION_CAT', 'graduate school', 'high school', 'others', 'university']"
   ]
  },
  {
   "cell_type": "markdown",
   "metadata": {},
   "source": [
    "5. Use uma list comprehension para remover esses nomes de colunas de nossa lista com as características e a variável de resposta"
   ]
  },
  {
   "cell_type": "code",
   "execution_count": 10,
   "metadata": {},
   "outputs": [
    {
     "data": {
      "text/plain": [
       "['LIMIT_BAL',\n",
       " 'EDUCATION',\n",
       " 'MARRIAGE',\n",
       " 'AGE',\n",
       " 'PAY_1',\n",
       " 'BILL_AMT1',\n",
       " 'BILL_AMT2',\n",
       " 'BILL_AMT3',\n",
       " 'BILL_AMT4',\n",
       " 'BILL_AMT5',\n",
       " 'BILL_AMT6',\n",
       " 'PAY_AMT1',\n",
       " 'PAY_AMT2',\n",
       " 'PAY_AMT3',\n",
       " 'PAY_AMT4',\n",
       " 'PAY_AMT5',\n",
       " 'PAY_AMT6',\n",
       " 'default payment next month']"
      ]
     },
     "execution_count": 10,
     "metadata": {},
     "output_type": "execute_result"
    }
   ],
   "source": [
    "features_response = [item for item in features_response if item not in items_to_remove]\n",
    "features_response"
   ]
  },
  {
   "cell_type": "markdown",
   "metadata": {},
   "source": [
    "Agora as características estão preparadas para uso. Em seguida, faremos algumas importações a partir do scikit-learn. Queremos criar uma divisão de treinamento/teste, com a qual já estamos familiarizados. Também queremos importar a classe de árvore de decisão"
   ]
  },
  {
   "cell_type": "markdown",
   "metadata": {},
   "source": [
    "6. Execute este código para fazer importações a partir do scikit-learn:"
   ]
  },
  {
   "cell_type": "code",
   "execution_count": 11,
   "metadata": {},
   "outputs": [],
   "source": [
    "from sklearn.model_selection import train_test_split\n",
    "from sklearn import tree"
   ]
  },
  {
   "cell_type": "markdown",
   "metadata": {},
   "source": [
    "A biblioteca *tree* contém as classes relacionadas à árvore de decisão no scikit-learn"
   ]
  },
  {
   "cell_type": "markdown",
   "metadata": {},
   "source": [
    "7. Divida os dados em treinamento e teste com o mesmo seed aleatório que usamos em todo o livro para a divisão"
   ]
  },
  {
   "cell_type": "code",
   "execution_count": 12,
   "metadata": {},
   "outputs": [],
   "source": [
    "X_train, X_test, y_train, y_test = train_test_split(df[features_response[:-1]].values, df['default payment next month'].values, test_size=0.2, random_state=24)"
   ]
  },
  {
   "cell_type": "markdown",
   "metadata": {},
   "source": [
    "Empregamos todos os elementos da lista, exceto o último, para obter os nomes das características, sem a variável resposta: features_response[:-1]. Fizemos isso para selecionar colunas do DataFrame e recuperar seus valores usando o método *.values*. Fizemos algo semelhante para a variavel resposta, mas especificamos o nome da coluna diretamente. Na criação da divisão de treinamento/teste, usamos o mesmo seed aleatório do trabalho anterior e o mesmo tamanho de divisão. Dessa forma, podemos comparar o trabalho que faremos neste capítulo com resultados anteriores. Especificamente, reservamos o mesmo \"conjunto de teste desconhecido\" do processo de desenvolvimento de modelo que executamos até aqui.\n",
    "\n",
    "Estamos prontos para instanciar a classe de árvore de decisão."
   ]
  },
  {
   "cell_type": "markdown",
   "metadata": {},
   "source": [
    "8. Instancie a classe de árvore de decisão especificando o parâmetro *max_depth* como 2:"
   ]
  },
  {
   "cell_type": "code",
   "execution_count": 13,
   "metadata": {},
   "outputs": [],
   "source": [
    "dt = tree.DecisionTreeClassifier(max_depth=2)"
   ]
  },
  {
   "cell_type": "markdown",
   "metadata": {},
   "source": [
    "Usamos a classe *DecisionTreeClassifier* poruqe temos um problema de classificação. Já que especificamos *max_depth=2*, quando criarmos a árvore de decisão com os dados do estudo de caso ela crescerá até uma profundidade de no máximo 2. Agora treinaremos esse modelo."
   ]
  },
  {
   "cell_type": "markdown",
   "metadata": {},
   "source": [
    "9. Use este código para ajustar o modelo de árvore de decisão e criar a árvore:"
   ]
  },
  {
   "cell_type": "code",
   "execution_count": 14,
   "metadata": {},
   "outputs": [
    {
     "data": {
      "text/html": [
       "<style>#sk-container-id-1 {color: black;}#sk-container-id-1 pre{padding: 0;}#sk-container-id-1 div.sk-toggleable {background-color: white;}#sk-container-id-1 label.sk-toggleable__label {cursor: pointer;display: block;width: 100%;margin-bottom: 0;padding: 0.3em;box-sizing: border-box;text-align: center;}#sk-container-id-1 label.sk-toggleable__label-arrow:before {content: \"▸\";float: left;margin-right: 0.25em;color: #696969;}#sk-container-id-1 label.sk-toggleable__label-arrow:hover:before {color: black;}#sk-container-id-1 div.sk-estimator:hover label.sk-toggleable__label-arrow:before {color: black;}#sk-container-id-1 div.sk-toggleable__content {max-height: 0;max-width: 0;overflow: hidden;text-align: left;background-color: #f0f8ff;}#sk-container-id-1 div.sk-toggleable__content pre {margin: 0.2em;color: black;border-radius: 0.25em;background-color: #f0f8ff;}#sk-container-id-1 input.sk-toggleable__control:checked~div.sk-toggleable__content {max-height: 200px;max-width: 100%;overflow: auto;}#sk-container-id-1 input.sk-toggleable__control:checked~label.sk-toggleable__label-arrow:before {content: \"▾\";}#sk-container-id-1 div.sk-estimator input.sk-toggleable__control:checked~label.sk-toggleable__label {background-color: #d4ebff;}#sk-container-id-1 div.sk-label input.sk-toggleable__control:checked~label.sk-toggleable__label {background-color: #d4ebff;}#sk-container-id-1 input.sk-hidden--visually {border: 0;clip: rect(1px 1px 1px 1px);clip: rect(1px, 1px, 1px, 1px);height: 1px;margin: -1px;overflow: hidden;padding: 0;position: absolute;width: 1px;}#sk-container-id-1 div.sk-estimator {font-family: monospace;background-color: #f0f8ff;border: 1px dotted black;border-radius: 0.25em;box-sizing: border-box;margin-bottom: 0.5em;}#sk-container-id-1 div.sk-estimator:hover {background-color: #d4ebff;}#sk-container-id-1 div.sk-parallel-item::after {content: \"\";width: 100%;border-bottom: 1px solid gray;flex-grow: 1;}#sk-container-id-1 div.sk-label:hover label.sk-toggleable__label {background-color: #d4ebff;}#sk-container-id-1 div.sk-serial::before {content: \"\";position: absolute;border-left: 1px solid gray;box-sizing: border-box;top: 0;bottom: 0;left: 50%;z-index: 0;}#sk-container-id-1 div.sk-serial {display: flex;flex-direction: column;align-items: center;background-color: white;padding-right: 0.2em;padding-left: 0.2em;position: relative;}#sk-container-id-1 div.sk-item {position: relative;z-index: 1;}#sk-container-id-1 div.sk-parallel {display: flex;align-items: stretch;justify-content: center;background-color: white;position: relative;}#sk-container-id-1 div.sk-item::before, #sk-container-id-1 div.sk-parallel-item::before {content: \"\";position: absolute;border-left: 1px solid gray;box-sizing: border-box;top: 0;bottom: 0;left: 50%;z-index: -1;}#sk-container-id-1 div.sk-parallel-item {display: flex;flex-direction: column;z-index: 1;position: relative;background-color: white;}#sk-container-id-1 div.sk-parallel-item:first-child::after {align-self: flex-end;width: 50%;}#sk-container-id-1 div.sk-parallel-item:last-child::after {align-self: flex-start;width: 50%;}#sk-container-id-1 div.sk-parallel-item:only-child::after {width: 0;}#sk-container-id-1 div.sk-dashed-wrapped {border: 1px dashed gray;margin: 0 0.4em 0.5em 0.4em;box-sizing: border-box;padding-bottom: 0.4em;background-color: white;}#sk-container-id-1 div.sk-label label {font-family: monospace;font-weight: bold;display: inline-block;line-height: 1.2em;}#sk-container-id-1 div.sk-label-container {text-align: center;}#sk-container-id-1 div.sk-container {/* jupyter's `normalize.less` sets `[hidden] { display: none; }` but bootstrap.min.css set `[hidden] { display: none !important; }` so we also need the `!important` here to be able to override the default hidden behavior on the sphinx rendered scikit-learn.org. See: https://github.com/scikit-learn/scikit-learn/issues/21755 */display: inline-block !important;position: relative;}#sk-container-id-1 div.sk-text-repr-fallback {display: none;}</style><div id=\"sk-container-id-1\" class=\"sk-top-container\"><div class=\"sk-text-repr-fallback\"><pre>DecisionTreeClassifier(max_depth=2)</pre><b>In a Jupyter environment, please rerun this cell to show the HTML representation or trust the notebook. <br />On GitHub, the HTML representation is unable to render, please try loading this page with nbviewer.org.</b></div><div class=\"sk-container\" hidden><div class=\"sk-item\"><div class=\"sk-estimator sk-toggleable\"><input class=\"sk-toggleable__control sk-hidden--visually\" id=\"sk-estimator-id-1\" type=\"checkbox\" checked><label for=\"sk-estimator-id-1\" class=\"sk-toggleable__label sk-toggleable__label-arrow\">DecisionTreeClassifier</label><div class=\"sk-toggleable__content\"><pre>DecisionTreeClassifier(max_depth=2)</pre></div></div></div></div></div>"
      ],
      "text/plain": [
       "DecisionTreeClassifier(max_depth=2)"
      ]
     },
     "execution_count": 14,
     "metadata": {},
     "output_type": "execute_result"
    }
   ],
   "source": [
    "dt.fit(X_train, y_train)"
   ]
  },
  {
   "cell_type": "markdown",
   "metadata": {},
   "source": [
    "Na saída de ajuste do modelo é possível ver todas as opções que podem ser definidas com uma árvore de decisão; deixamos a maioria com suas configurações padrão - vamos discuti-las em breve. Por enquanto, ajustamos esse modelo de árvore de decisão para poder usar o pacote *graphviz* e exibir uma representação gráfica da árvore."
   ]
  },
  {
   "cell_type": "markdown",
   "metadata": {},
   "source": [
    "10. Exporte o modelo treinado em um formato que seja lido pelo paacote *graphviz* usando este código:"
   ]
  },
  {
   "cell_type": "code",
   "execution_count": 15,
   "metadata": {},
   "outputs": [],
   "source": [
    "dot_data = tree.export_graphviz(dt, out_file=None, filled=True, rounded=True, feature_names=features_response[:-1], proportion=True, class_names=['Not defaulted', 'Defaulted'])"
   ]
  },
  {
   "cell_type": "markdown",
   "metadata": {},
   "source": [
    "Aqui, especificamos várias opções para o método *.export_graphviz*. Primeiro, tivemos de informar que o modelo treinado queremos representar, o que foi indicado com o objeto dt. em seguida, informamos que não queremos um arquivo de saída: *out_file=None*. Em vez dele, fornecemos a variável *dot_data* para armazenar a saída desse método. O resto das opções foi usado da seguinte forma:\n",
    "\n",
    "- *filled=True*: Cada nó será preenchido com uma cor.\n",
    "- *rounded=True*: Os nós aparecerão com bordas arredondadas, e não com retangulos\n",
    "- *feature_names=features_response[:-1]*: Os nomes das características de nossa lista serão usados em vez de nomes genéricos como X[0]\n",
    "- *proportion=True*: A proporção de amostras de cada nó será exibida (discutiremos isso melhor posteriormente)\n",
    "- *class_names=['Not defaulted', 'Defaulted']*: O nome da classe prevista será exibido para cada nó.\n",
    "\n",
    "Qual a saída desse método?\n",
    "\n",
    "Se você examinar o conteúdo de dot_data, verá que ele é composta de uma longa string de texto. O pacote *graphviz* interpretará essa string de texto para criar uma visualização."
   ]
  },
  {
   "cell_type": "markdown",
   "metadata": {},
   "source": [
    "11. Use o método *.Source* do pacote graphviz para criar uma imagem de dot_data e exibi-la:"
   ]
  },
  {
   "cell_type": "code",
   "execution_count": 16,
   "metadata": {},
   "outputs": [
    {
     "data": {
      "image/svg+xml": [
       "<?xml version=\"1.0\" encoding=\"UTF-8\" standalone=\"no\"?>\n",
       "<!DOCTYPE svg PUBLIC \"-//W3C//DTD SVG 1.1//EN\"\n",
       " \"http://www.w3.org/Graphics/SVG/1.1/DTD/svg11.dtd\">\n",
       "<!-- Generated by graphviz version 2.43.0 (0)\n",
       " -->\n",
       "<!-- Title: Tree Pages: 1 -->\n",
       "<svg width=\"766pt\" height=\"314pt\"\n",
       " viewBox=\"0.00 0.00 766.00 314.00\" xmlns=\"http://www.w3.org/2000/svg\" xmlns:xlink=\"http://www.w3.org/1999/xlink\">\n",
       "<g id=\"graph0\" class=\"graph\" transform=\"scale(1 1) rotate(0) translate(4 310)\">\n",
       "<title>Tree</title>\n",
       "<polygon fill=\"white\" stroke=\"transparent\" points=\"-4,4 -4,-310 762,-310 762,4 -4,4\"/>\n",
       "<!-- 0 -->\n",
       "<g id=\"node1\" class=\"node\">\n",
       "<title>0</title>\n",
       "<path fill=\"#eca572\" stroke=\"black\" d=\"M455,-306C455,-306 303,-306 303,-306 297,-306 291,-300 291,-294 291,-294 291,-235 291,-235 291,-229 297,-223 303,-223 303,-223 455,-223 455,-223 461,-223 467,-229 467,-235 467,-235 467,-294 467,-294 467,-300 461,-306 455,-306\"/>\n",
       "<text text-anchor=\"middle\" x=\"379\" y=\"-290.8\" font-family=\"Helvetica,sans-Serif\" font-size=\"14.00\">PAY_1 &lt;= 1.5</text>\n",
       "<text text-anchor=\"middle\" x=\"379\" y=\"-275.8\" font-family=\"Helvetica,sans-Serif\" font-size=\"14.00\">gini = 0.347</text>\n",
       "<text text-anchor=\"middle\" x=\"379\" y=\"-260.8\" font-family=\"Helvetica,sans-Serif\" font-size=\"14.00\">samples = 100.0%</text>\n",
       "<text text-anchor=\"middle\" x=\"379\" y=\"-245.8\" font-family=\"Helvetica,sans-Serif\" font-size=\"14.00\">value = [0.777, 0.223]</text>\n",
       "<text text-anchor=\"middle\" x=\"379\" y=\"-230.8\" font-family=\"Helvetica,sans-Serif\" font-size=\"14.00\">class = Not defaulted</text>\n",
       "</g>\n",
       "<!-- 1 -->\n",
       "<g id=\"node2\" class=\"node\">\n",
       "<title>1</title>\n",
       "<path fill=\"#ea9a61\" stroke=\"black\" d=\"M358,-187C358,-187 206,-187 206,-187 200,-187 194,-181 194,-175 194,-175 194,-116 194,-116 194,-110 200,-104 206,-104 206,-104 358,-104 358,-104 364,-104 370,-110 370,-116 370,-116 370,-175 370,-175 370,-181 364,-187 358,-187\"/>\n",
       "<text text-anchor=\"middle\" x=\"282\" y=\"-171.8\" font-family=\"Helvetica,sans-Serif\" font-size=\"14.00\">PAY_1 &lt;= 0.5</text>\n",
       "<text text-anchor=\"middle\" x=\"282\" y=\"-156.8\" font-family=\"Helvetica,sans-Serif\" font-size=\"14.00\">gini = 0.277</text>\n",
       "<text text-anchor=\"middle\" x=\"282\" y=\"-141.8\" font-family=\"Helvetica,sans-Serif\" font-size=\"14.00\">samples = 89.5%</text>\n",
       "<text text-anchor=\"middle\" x=\"282\" y=\"-126.8\" font-family=\"Helvetica,sans-Serif\" font-size=\"14.00\">value = [0.834, 0.166]</text>\n",
       "<text text-anchor=\"middle\" x=\"282\" y=\"-111.8\" font-family=\"Helvetica,sans-Serif\" font-size=\"14.00\">class = Not defaulted</text>\n",
       "</g>\n",
       "<!-- 0&#45;&gt;1 -->\n",
       "<g id=\"edge1\" class=\"edge\">\n",
       "<title>0&#45;&gt;1</title>\n",
       "<path fill=\"none\" stroke=\"black\" d=\"M345.35,-222.91C337.82,-213.83 329.77,-204.12 322.02,-194.77\"/>\n",
       "<polygon fill=\"black\" stroke=\"black\" points=\"324.67,-192.49 315.59,-187.02 319.28,-196.95 324.67,-192.49\"/>\n",
       "<text text-anchor=\"middle\" x=\"313.27\" y=\"-208.21\" font-family=\"Helvetica,sans-Serif\" font-size=\"14.00\">True</text>\n",
       "</g>\n",
       "<!-- 4 -->\n",
       "<g id=\"node5\" class=\"node\">\n",
       "<title>4</title>\n",
       "<path fill=\"#8cc6f0\" stroke=\"black\" d=\"M552,-187C552,-187 400,-187 400,-187 394,-187 388,-181 388,-175 388,-175 388,-116 388,-116 388,-110 394,-104 400,-104 400,-104 552,-104 552,-104 558,-104 564,-110 564,-116 564,-116 564,-175 564,-175 564,-181 558,-187 552,-187\"/>\n",
       "<text text-anchor=\"middle\" x=\"476\" y=\"-171.8\" font-family=\"Helvetica,sans-Serif\" font-size=\"14.00\">BILL_AMT1 &lt;= 568.0</text>\n",
       "<text text-anchor=\"middle\" x=\"476\" y=\"-156.8\" font-family=\"Helvetica,sans-Serif\" font-size=\"14.00\">gini = 0.416</text>\n",
       "<text text-anchor=\"middle\" x=\"476\" y=\"-141.8\" font-family=\"Helvetica,sans-Serif\" font-size=\"14.00\">samples = 10.5%</text>\n",
       "<text text-anchor=\"middle\" x=\"476\" y=\"-126.8\" font-family=\"Helvetica,sans-Serif\" font-size=\"14.00\">value = [0.295, 0.705]</text>\n",
       "<text text-anchor=\"middle\" x=\"476\" y=\"-111.8\" font-family=\"Helvetica,sans-Serif\" font-size=\"14.00\">class = Defaulted</text>\n",
       "</g>\n",
       "<!-- 0&#45;&gt;4 -->\n",
       "<g id=\"edge4\" class=\"edge\">\n",
       "<title>0&#45;&gt;4</title>\n",
       "<path fill=\"none\" stroke=\"black\" d=\"M412.65,-222.91C420.18,-213.83 428.23,-204.12 435.98,-194.77\"/>\n",
       "<polygon fill=\"black\" stroke=\"black\" points=\"438.72,-196.95 442.41,-187.02 433.33,-192.49 438.72,-196.95\"/>\n",
       "<text text-anchor=\"middle\" x=\"444.73\" y=\"-208.21\" font-family=\"Helvetica,sans-Serif\" font-size=\"14.00\">False</text>\n",
       "</g>\n",
       "<!-- 2 -->\n",
       "<g id=\"node3\" class=\"node\">\n",
       "<title>2</title>\n",
       "<path fill=\"#e99559\" stroke=\"black\" d=\"M164,-68C164,-68 12,-68 12,-68 6,-68 0,-62 0,-56 0,-56 0,-12 0,-12 0,-6 6,0 12,0 12,0 164,0 164,0 170,0 176,-6 176,-12 176,-12 176,-56 176,-56 176,-62 170,-68 164,-68\"/>\n",
       "<text text-anchor=\"middle\" x=\"88\" y=\"-52.8\" font-family=\"Helvetica,sans-Serif\" font-size=\"14.00\">gini = 0.239</text>\n",
       "<text text-anchor=\"middle\" x=\"88\" y=\"-37.8\" font-family=\"Helvetica,sans-Serif\" font-size=\"14.00\">samples = 77.1%</text>\n",
       "<text text-anchor=\"middle\" x=\"88\" y=\"-22.8\" font-family=\"Helvetica,sans-Serif\" font-size=\"14.00\">value = [0.861, 0.139]</text>\n",
       "<text text-anchor=\"middle\" x=\"88\" y=\"-7.8\" font-family=\"Helvetica,sans-Serif\" font-size=\"14.00\">class = Not defaulted</text>\n",
       "</g>\n",
       "<!-- 1&#45;&gt;2 -->\n",
       "<g id=\"edge2\" class=\"edge\">\n",
       "<title>1&#45;&gt;2</title>\n",
       "<path fill=\"none\" stroke=\"black\" d=\"M210.04,-103.88C192.22,-93.83 173.2,-83.09 155.6,-73.16\"/>\n",
       "<polygon fill=\"black\" stroke=\"black\" points=\"156.97,-69.91 146.54,-68.04 153.53,-76.01 156.97,-69.91\"/>\n",
       "</g>\n",
       "<!-- 3 -->\n",
       "<g id=\"node4\" class=\"node\">\n",
       "<title>3</title>\n",
       "<path fill=\"#f2c29e\" stroke=\"black\" d=\"M358,-68C358,-68 206,-68 206,-68 200,-68 194,-62 194,-56 194,-56 194,-12 194,-12 194,-6 200,0 206,0 206,0 358,0 358,0 364,0 370,-6 370,-12 370,-12 370,-56 370,-56 370,-62 364,-68 358,-68\"/>\n",
       "<text text-anchor=\"middle\" x=\"282\" y=\"-52.8\" font-family=\"Helvetica,sans-Serif\" font-size=\"14.00\">gini = 0.448</text>\n",
       "<text text-anchor=\"middle\" x=\"282\" y=\"-37.8\" font-family=\"Helvetica,sans-Serif\" font-size=\"14.00\">samples = 12.4%</text>\n",
       "<text text-anchor=\"middle\" x=\"282\" y=\"-22.8\" font-family=\"Helvetica,sans-Serif\" font-size=\"14.00\">value = [0.661, 0.339]</text>\n",
       "<text text-anchor=\"middle\" x=\"282\" y=\"-7.8\" font-family=\"Helvetica,sans-Serif\" font-size=\"14.00\">class = Not defaulted</text>\n",
       "</g>\n",
       "<!-- 1&#45;&gt;3 -->\n",
       "<g id=\"edge3\" class=\"edge\">\n",
       "<title>1&#45;&gt;3</title>\n",
       "<path fill=\"none\" stroke=\"black\" d=\"M282,-103.73C282,-95.52 282,-86.86 282,-78.56\"/>\n",
       "<polygon fill=\"black\" stroke=\"black\" points=\"285.5,-78.3 282,-68.3 278.5,-78.3 285.5,-78.3\"/>\n",
       "</g>\n",
       "<!-- 5 -->\n",
       "<g id=\"node6\" class=\"node\">\n",
       "<title>5</title>\n",
       "<path fill=\"#f5d0b5\" stroke=\"black\" d=\"M552,-68C552,-68 400,-68 400,-68 394,-68 388,-62 388,-56 388,-56 388,-12 388,-12 388,-6 394,0 400,0 400,0 552,0 552,0 558,0 564,-6 564,-12 564,-12 564,-56 564,-56 564,-62 558,-68 552,-68\"/>\n",
       "<text text-anchor=\"middle\" x=\"476\" y=\"-52.8\" font-family=\"Helvetica,sans-Serif\" font-size=\"14.00\">gini = 0.473</text>\n",
       "<text text-anchor=\"middle\" x=\"476\" y=\"-37.8\" font-family=\"Helvetica,sans-Serif\" font-size=\"14.00\">samples = 0.3%</text>\n",
       "<text text-anchor=\"middle\" x=\"476\" y=\"-22.8\" font-family=\"Helvetica,sans-Serif\" font-size=\"14.00\">value = [0.615, 0.385]</text>\n",
       "<text text-anchor=\"middle\" x=\"476\" y=\"-7.8\" font-family=\"Helvetica,sans-Serif\" font-size=\"14.00\">class = Not defaulted</text>\n",
       "</g>\n",
       "<!-- 4&#45;&gt;5 -->\n",
       "<g id=\"edge5\" class=\"edge\">\n",
       "<title>4&#45;&gt;5</title>\n",
       "<path fill=\"none\" stroke=\"black\" d=\"M476,-103.73C476,-95.52 476,-86.86 476,-78.56\"/>\n",
       "<polygon fill=\"black\" stroke=\"black\" points=\"479.5,-78.3 476,-68.3 472.5,-78.3 479.5,-78.3\"/>\n",
       "</g>\n",
       "<!-- 6 -->\n",
       "<g id=\"node7\" class=\"node\">\n",
       "<title>6</title>\n",
       "<path fill=\"#88c4ef\" stroke=\"black\" d=\"M746,-68C746,-68 594,-68 594,-68 588,-68 582,-62 582,-56 582,-56 582,-12 582,-12 582,-6 588,0 594,0 594,0 746,0 746,0 752,0 758,-6 758,-12 758,-12 758,-56 758,-56 758,-62 752,-68 746,-68\"/>\n",
       "<text text-anchor=\"middle\" x=\"670\" y=\"-52.8\" font-family=\"Helvetica,sans-Serif\" font-size=\"14.00\">gini = 0.408</text>\n",
       "<text text-anchor=\"middle\" x=\"670\" y=\"-37.8\" font-family=\"Helvetica,sans-Serif\" font-size=\"14.00\">samples = 10.2%</text>\n",
       "<text text-anchor=\"middle\" x=\"670\" y=\"-22.8\" font-family=\"Helvetica,sans-Serif\" font-size=\"14.00\">value = [0.286, 0.714]</text>\n",
       "<text text-anchor=\"middle\" x=\"670\" y=\"-7.8\" font-family=\"Helvetica,sans-Serif\" font-size=\"14.00\">class = Defaulted</text>\n",
       "</g>\n",
       "<!-- 4&#45;&gt;6 -->\n",
       "<g id=\"edge6\" class=\"edge\">\n",
       "<title>4&#45;&gt;6</title>\n",
       "<path fill=\"none\" stroke=\"black\" d=\"M547.96,-103.88C565.78,-93.83 584.8,-83.09 602.4,-73.16\"/>\n",
       "<polygon fill=\"black\" stroke=\"black\" points=\"604.47,-76.01 611.46,-68.04 601.03,-69.91 604.47,-76.01\"/>\n",
       "</g>\n",
       "</g>\n",
       "</svg>\n"
      ],
      "text/plain": [
       "<graphviz.sources.Source at 0x7fb82c315a90>"
      ]
     },
     "execution_count": 16,
     "metadata": {},
     "output_type": "execute_result"
    }
   ],
   "source": [
    "graph = graphviz.Source(dot_data)\n",
    "graph"
   ]
  },
  {
   "cell_type": "markdown",
   "metadata": {},
   "source": [
    "A visualização da figura contém muitas informações sobre como a árvore de decisão foi treinada e como ela pode ser usada para fazer previsões. Discutiremos o processo de treinamento com mais detalhes posteriormente, mas é suficiente dizer que o treinamento de uma árvore de decisão começa com todas as amostras de treinamento no nó inicial do topo da árvore e sua divisõa em dois grupos de acordo com um **limite** em uma das características. O ponto de corte é representado por uma condição booleana no nó *PAY_1 <= 1.5* superior.\n",
    "\n",
    "Todas as amostras em que o valor da característica PAY_1 é menor ou igual ao ponto de corte de 1.5 serão representadas como *True* na condição booleana. Como mostrado na figura, essas amostras são classificadas no lado esquerdo da árvore, seguindo a seta que exibe \"True\" perto dela.\n",
    "\n",
    "Como você pode ver no gráfico, cada nó que é dividido contém os critérios de divisão na primeira linha de texto. A linha seguinte faz referência a \"gini\", que discutiremos em breve.\n",
    "\n",
    "Na linha posterior à linha gini, há informações sobre a proporção de amostras de cada nó. No nó superior, estamos começando com todas as amostras (\"samples = 100.0%\"). Após a primeira divisão, 89,5% das amostras são classificadas no nó da esquerda, enquanto as 10,5% restantes vão para o nó da direita. Essas informações são exibidas diretamente na visualização e refletem como os dados de treinamento foram usados para criar a árvore. Confirmaremos isso examinando os dados de treinamento."
   ]
  },
  {
   "cell_type": "markdown",
   "metadata": {},
   "source": [
    "12. Para confirmar a proporção de amostras de treinamento em que a característica PAY_1 é menor ou igual a 1.5, primeiro identificaremos o índice dessa característica na lista de nomes de características *features_response[:-1]*:"
   ]
  },
  {
   "cell_type": "code",
   "execution_count": 17,
   "metadata": {},
   "outputs": [
    {
     "data": {
      "text/plain": [
       "4"
      ]
     },
     "execution_count": 17,
     "metadata": {},
     "output_type": "execute_result"
    }
   ],
   "source": [
    "features_response[:-1].index('PAY_1')"
   ]
  },
  {
   "cell_type": "markdown",
   "metadata": {},
   "source": [
    "13. Agora obtenha a dimensão dos dados de treinamento:"
   ]
  },
  {
   "cell_type": "code",
   "execution_count": 18,
   "metadata": {},
   "outputs": [
    {
     "data": {
      "text/plain": [
       "(21331, 17)"
      ]
     },
     "execution_count": 18,
     "metadata": {},
     "output_type": "execute_result"
    }
   ],
   "source": [
    "X_train.shape"
   ]
  },
  {
   "cell_type": "markdown",
   "metadata": {},
   "source": [
    "Para confirmar a fração de amostras após a primeira divisão da árvore de decisão, temos de saber a proporção de amostras em que a característica PAY_1 atende a condição booleana usada. Para obter essa informação, podemos usar o índice da característica PAY_1 nos dados de treinamento, correspondente ao índice na lista de nomes características, e o número de amostras do mesmo conjunto de dados, que é o número de linhas que observamos com *.shape*"
   ]
  },
  {
   "cell_type": "markdown",
   "metadata": {},
   "source": [
    "14. Use este código para confirmar a proporção de amostras após a primeira divisão da árvore de decisão:"
   ]
  },
  {
   "cell_type": "code",
   "execution_count": 19,
   "metadata": {},
   "outputs": [
    {
     "data": {
      "text/plain": [
       "0.8946134733486475"
      ]
     },
     "execution_count": 19,
     "metadata": {},
     "output_type": "execute_result"
    }
   ],
   "source": [
    "sum(X_train[:, 4] <= 1.5)/X_train.shape[0]"
   ]
  },
  {
   "cell_type": "markdown",
   "metadata": {},
   "source": [
    "Aplicando uma condição lógica à coluna dos dados de treinamento correspondente à característica PAY_1, e obtendo a soma disso, calculamos o número de amostras que a atendem. Em seguida, dividindo pelo número total de amostras, convertemos o resultado em uma proporção. Podemos ver que a proporção que calculamos diretamente a partir dos dados de treinamento é igual à proporção exibida no nó esquerdo após a primeira divisão na figura.\n",
    "\n",
    "Após a primeira divisão, as amostras contidas em cada um dos dois nós do primeiro nível são divididas novamente. À medida que novas divisões forem feitas depois da primeira divisão, proporções cada vez menores dos dados de treinamento serão atribuidas a nós específicos nos níveis subsequentes de um galho, como pode ser visto na figura\n",
    "\n",
    "Agora queremos interpretar as linhas de texto restantes dos nós da figura. As linhas que começam com \"value\" fornecem as frações de classes da variável de resposta para as amostras contidas em cada nó. Por exemplo, no nó superior, vemos \"value = [0.777, 0.223]\". Isso é simplesmente a fração de classes do conjunto de treinamento total, que podemos confirmar na próxima etapa"
   ]
  },
  {
   "cell_type": "markdown",
   "metadata": {},
   "source": [
    "15. Calcule a fração de classes do conjunto de treinamento com este código"
   ]
  },
  {
   "cell_type": "code",
   "execution_count": 20,
   "metadata": {},
   "outputs": [
    {
     "data": {
      "text/plain": [
       "0.223102526838873"
      ]
     },
     "execution_count": 20,
     "metadata": {},
     "output_type": "execute_result"
    }
   ],
   "source": [
    "np.mean(y_train)"
   ]
  },
  {
   "cell_type": "markdown",
   "metadata": {},
   "source": [
    "Esse valor é igual ao segundo membro do par de numeros que vem apos \"value\" no nó superior; o primeiro número é apenas um menos esse valor, em outras palavras, a fraçao de amostra de treinamento negativas. Em cada nó subsequente, a fração de amostras de que estiverem contidas apenas nesse nó será exibida. As frações de classes também mostram como os nós serão coloridos: os que tiverem maior proporção da classe negativa serão laranja, com laranja escuro significando proporções mais altas, enquanto os de maior proporção da classe positiva terão um esquema semelhante usando a cor azul.\n",
    "\n",
    "Para concluir, a linha que começa com \"class\" indica como a árvore de decisão fará previsões a partir de um nó específico, se ele for um nó folha. Árvores de decisão usadas para classificação fazem previsões determinando em que ní folha uma amostra será classificada, dados os valores das características, e prevendo a classe da maioria das amostras de treinamento nesse nó são as informações necessárias para fazermos uma previsão.\n",
    "\n",
    "Por exemplo, se não fizermos divisões e formos forçados a fazer uma previsão não sabendo nada exceto as frações de classes dos dados de treinamento totais, escolheremos simplesmente a classe majoritária. Já que a maiorias das pessoas não está inadimplente, a classe do nó superior será \"Not defaulted\". No entanto, As frações de classes dos nós de níveis mais profundos serão diferentes, levando a outras previsões. Discutiremos o processo de treinamento na próxima seção.\n",
    "\n",
    "---"
   ]
  },
  {
   "cell_type": "markdown",
   "metadata": {},
   "source": [
    "### Exercício 20: Encontrando hiperparâmetros ótimos para uma árvore de decisão.\n",
    "\n",
    "Neste exercício, usaremos *GridSeachCV* para ajustar os hiperparâmetros de um modelo de árvore de decisão. Você conhecerá uma maneira conveniente de pesquisar diferentes hiperparâmetros com o scikit-learn. Execute as etapas a seguir para fazer o exercício:"
   ]
  },
  {
   "cell_type": "markdown",
   "metadata": {},
   "source": [
    "1. Importe a classe GridSeachCV com este código:"
   ]
  },
  {
   "cell_type": "code",
   "execution_count": 21,
   "metadata": {},
   "outputs": [],
   "source": [
    "from sklearn.model_selection import GridSearchCV"
   ]
  },
  {
   "cell_type": "markdown",
   "metadata": {},
   "source": [
    "A próxima etapa é definir os hiperparâmetros que queremos pesquisar usando a validação cruzada. Encontraremos a melhor profundidade máxima da árvore usando o parâmetro max_depth. Árvores mais profundas têm mais divisões de nós, que particionam o conjunto de treinamento em subespaços cada vez menores usando as características. Não sabemos a melhor profundidade máxima antecipadamente, mas é útil considerar alguns casos limite ao pensar no intervalo de parâmetros usado na busca da grade."
   ]
  },
  {
   "cell_type": "markdown",
   "metadata": {},
   "source": [
    "Sabemos que um é a profundidade mínima, consistindo em uma árvore com apenas uma divisão. No que diz respeito à maior profundidade, você pode considerar quantas amostras há em seus dados de treinamento, ou mais apropriadamente nesse caso, quantas amostras existirão no fold de treinamento para cada divisão da validação cruzada. Executaremos uma validação cruzada com 4 folds, como fizemos no capítulo anterior. Logo, quantas amostras teremos no fold de treinamento e que relação isso tem com a profundidade da árvore?"
   ]
  },
  {
   "cell_type": "markdown",
   "metadata": {},
   "source": [
    "2. Encontre o número de amostras dos dados de treinamento usando este código:"
   ]
  },
  {
   "cell_type": "code",
   "execution_count": 22,
   "metadata": {},
   "outputs": [
    {
     "data": {
      "text/plain": [
       "(21331, 17)"
      ]
     },
     "execution_count": 22,
     "metadata": {},
     "output_type": "execute_result"
    }
   ],
   "source": [
    "X_train.shape"
   ]
  },
  {
   "cell_type": "markdown",
   "metadata": {},
   "source": [
    "Com 21.331 amostras de treinamento e uma validação cruzada com 4 folds, haverá três quartos da amostra, ou cerca de 16.000 amostras, em cada fold de treinamento.\n",
    "\n",
    "**O que isso significa para a profundidade que daremos à arvore?**\n",
    "\n",
    "Uma limitação teórica é a de que precisamos de pelo menos uma amostra em cada folha. Pela nossa discussão sobre como a profundidade da árvore está relacionada com o número de folhas, sabemos que uma árvore que se divide em cada nó antes do último nível tem $2^n$ nós folhas. Logo, uma árvore com L nós folhas tem profundidade de aproximadamente $log_{2}$(L). No caso limite, se estendermos a árvore até uma profundidade suficiente para que cada nó folha tenha uma única amostra de treinamento para um fold específico, a profundidade será igual a $log_{2}$(16,000) $\\approx$ 14. Portanto, 14 é o limite teórico da profundidade da árvore que poderíamos criar nesse caso.\n",
    "\n",
    "Na prática, provavelmente você não vai querer criar uma árvore com essa profundidade, já que as regras usadas para gerar a árvore de decisão serão muito especificas para os dados de treinamento e o modelo deve sofrer sobreajuste. No entato, isso nos dá uma ideia do intervalo de valores que podemos considerar para o hiperparâmetro max_depth. Examinaremos um intervalo de profundidades de 1 a 12."
   ]
  },
  {
   "cell_type": "markdown",
   "metadata": {},
   "source": [
    "3. Defina um dicionário com a chave sendo o nome do hiperparâmetro e o valor sendo a lista de valores desse hiperparâmetro que queremos pesquisar na validação cruzada:"
   ]
  },
  {
   "cell_type": "code",
   "execution_count": 23,
   "metadata": {},
   "outputs": [],
   "source": [
    "params = {'max_depth':[1, 2, 4, 6, 8, 10, 12]}"
   ]
  },
  {
   "cell_type": "markdown",
   "metadata": {},
   "source": [
    "Nesse caso, estamos pesquisando apenas um hiperparâmetro. No entanto, você poderia definir um dicionário com vários pares chave-valor para procurar diversos hiperparâmetros simultaneamente.\n",
    "\n",
    "Agora queremos instanciar a classe *GridSearchCV*"
   ]
  },
  {
   "cell_type": "markdown",
   "metadata": {},
   "source": [
    "4. Instancie a classe *GridSearchCV* usando estas opções:"
   ]
  },
  {
   "cell_type": "code",
   "execution_count": 24,
   "metadata": {},
   "outputs": [],
   "source": [
    "cv = GridSearchCV(dt, param_grid=params, scoring='roc_auc', n_jobs=None, refit=True, cv=4, verbose=1, pre_dispatch='None', error_score=np.nan, return_train_score=True)"
   ]
  },
  {
   "cell_type": "markdown",
   "metadata": {},
   "source": [
    "Observe que pudemos reutilizar o objeto de árvore de decisão, dt, que instanciamos anteriormente neste capítulo. Ao criar dt, usamos os argumentos padrãopara todas as opções exceto max_depth. Porém esse hiperparâmetro será redefinido aqui com o uso do dicionário params em cada iteração do loope de validação cruzada. As outras opções dignas de nota são o uso da métrica ROC AUC (*scoring='roc_auc*), a execução de uma validação com 4 fold (*cv=4*) e o cálculo dos resultados do treinamento (*return_train_score=True*) para a avaliação do trade-off entre viés e variância.\n",
    "\n",
    "Uma vez que o objeto de validação cruzada estiver definido, poderemos usar o método .fit nete como faríamos com um objeto de modelo. Isso encapsulará toda a funcionalidade do loop de validação cruzada que criamos no capítulo anterior"
   ]
  },
  {
   "cell_type": "markdown",
   "metadata": {},
   "source": [
    "5. Execute uma validação cruzada com 4 folds para procurar a profundidade máxima ótima usando este código:"
   ]
  },
  {
   "cell_type": "code",
   "execution_count": 25,
   "metadata": {},
   "outputs": [
    {
     "name": "stdout",
     "output_type": "stream",
     "text": [
      "Fitting 4 folds for each of 7 candidates, totalling 28 fits\n"
     ]
    },
    {
     "data": {
      "text/html": [
       "<style>#sk-container-id-2 {color: black;}#sk-container-id-2 pre{padding: 0;}#sk-container-id-2 div.sk-toggleable {background-color: white;}#sk-container-id-2 label.sk-toggleable__label {cursor: pointer;display: block;width: 100%;margin-bottom: 0;padding: 0.3em;box-sizing: border-box;text-align: center;}#sk-container-id-2 label.sk-toggleable__label-arrow:before {content: \"▸\";float: left;margin-right: 0.25em;color: #696969;}#sk-container-id-2 label.sk-toggleable__label-arrow:hover:before {color: black;}#sk-container-id-2 div.sk-estimator:hover label.sk-toggleable__label-arrow:before {color: black;}#sk-container-id-2 div.sk-toggleable__content {max-height: 0;max-width: 0;overflow: hidden;text-align: left;background-color: #f0f8ff;}#sk-container-id-2 div.sk-toggleable__content pre {margin: 0.2em;color: black;border-radius: 0.25em;background-color: #f0f8ff;}#sk-container-id-2 input.sk-toggleable__control:checked~div.sk-toggleable__content {max-height: 200px;max-width: 100%;overflow: auto;}#sk-container-id-2 input.sk-toggleable__control:checked~label.sk-toggleable__label-arrow:before {content: \"▾\";}#sk-container-id-2 div.sk-estimator input.sk-toggleable__control:checked~label.sk-toggleable__label {background-color: #d4ebff;}#sk-container-id-2 div.sk-label input.sk-toggleable__control:checked~label.sk-toggleable__label {background-color: #d4ebff;}#sk-container-id-2 input.sk-hidden--visually {border: 0;clip: rect(1px 1px 1px 1px);clip: rect(1px, 1px, 1px, 1px);height: 1px;margin: -1px;overflow: hidden;padding: 0;position: absolute;width: 1px;}#sk-container-id-2 div.sk-estimator {font-family: monospace;background-color: #f0f8ff;border: 1px dotted black;border-radius: 0.25em;box-sizing: border-box;margin-bottom: 0.5em;}#sk-container-id-2 div.sk-estimator:hover {background-color: #d4ebff;}#sk-container-id-2 div.sk-parallel-item::after {content: \"\";width: 100%;border-bottom: 1px solid gray;flex-grow: 1;}#sk-container-id-2 div.sk-label:hover label.sk-toggleable__label {background-color: #d4ebff;}#sk-container-id-2 div.sk-serial::before {content: \"\";position: absolute;border-left: 1px solid gray;box-sizing: border-box;top: 0;bottom: 0;left: 50%;z-index: 0;}#sk-container-id-2 div.sk-serial {display: flex;flex-direction: column;align-items: center;background-color: white;padding-right: 0.2em;padding-left: 0.2em;position: relative;}#sk-container-id-2 div.sk-item {position: relative;z-index: 1;}#sk-container-id-2 div.sk-parallel {display: flex;align-items: stretch;justify-content: center;background-color: white;position: relative;}#sk-container-id-2 div.sk-item::before, #sk-container-id-2 div.sk-parallel-item::before {content: \"\";position: absolute;border-left: 1px solid gray;box-sizing: border-box;top: 0;bottom: 0;left: 50%;z-index: -1;}#sk-container-id-2 div.sk-parallel-item {display: flex;flex-direction: column;z-index: 1;position: relative;background-color: white;}#sk-container-id-2 div.sk-parallel-item:first-child::after {align-self: flex-end;width: 50%;}#sk-container-id-2 div.sk-parallel-item:last-child::after {align-self: flex-start;width: 50%;}#sk-container-id-2 div.sk-parallel-item:only-child::after {width: 0;}#sk-container-id-2 div.sk-dashed-wrapped {border: 1px dashed gray;margin: 0 0.4em 0.5em 0.4em;box-sizing: border-box;padding-bottom: 0.4em;background-color: white;}#sk-container-id-2 div.sk-label label {font-family: monospace;font-weight: bold;display: inline-block;line-height: 1.2em;}#sk-container-id-2 div.sk-label-container {text-align: center;}#sk-container-id-2 div.sk-container {/* jupyter's `normalize.less` sets `[hidden] { display: none; }` but bootstrap.min.css set `[hidden] { display: none !important; }` so we also need the `!important` here to be able to override the default hidden behavior on the sphinx rendered scikit-learn.org. See: https://github.com/scikit-learn/scikit-learn/issues/21755 */display: inline-block !important;position: relative;}#sk-container-id-2 div.sk-text-repr-fallback {display: none;}</style><div id=\"sk-container-id-2\" class=\"sk-top-container\"><div class=\"sk-text-repr-fallback\"><pre>GridSearchCV(cv=4, estimator=DecisionTreeClassifier(max_depth=2),\n",
       "             param_grid={&#x27;max_depth&#x27;: [1, 2, 4, 6, 8, 10, 12]},\n",
       "             pre_dispatch=&#x27;None&#x27;, return_train_score=True, scoring=&#x27;roc_auc&#x27;,\n",
       "             verbose=1)</pre><b>In a Jupyter environment, please rerun this cell to show the HTML representation or trust the notebook. <br />On GitHub, the HTML representation is unable to render, please try loading this page with nbviewer.org.</b></div><div class=\"sk-container\" hidden><div class=\"sk-item sk-dashed-wrapped\"><div class=\"sk-label-container\"><div class=\"sk-label sk-toggleable\"><input class=\"sk-toggleable__control sk-hidden--visually\" id=\"sk-estimator-id-2\" type=\"checkbox\" ><label for=\"sk-estimator-id-2\" class=\"sk-toggleable__label sk-toggleable__label-arrow\">GridSearchCV</label><div class=\"sk-toggleable__content\"><pre>GridSearchCV(cv=4, estimator=DecisionTreeClassifier(max_depth=2),\n",
       "             param_grid={&#x27;max_depth&#x27;: [1, 2, 4, 6, 8, 10, 12]},\n",
       "             pre_dispatch=&#x27;None&#x27;, return_train_score=True, scoring=&#x27;roc_auc&#x27;,\n",
       "             verbose=1)</pre></div></div></div><div class=\"sk-parallel\"><div class=\"sk-parallel-item\"><div class=\"sk-item\"><div class=\"sk-label-container\"><div class=\"sk-label sk-toggleable\"><input class=\"sk-toggleable__control sk-hidden--visually\" id=\"sk-estimator-id-3\" type=\"checkbox\" ><label for=\"sk-estimator-id-3\" class=\"sk-toggleable__label sk-toggleable__label-arrow\">estimator: DecisionTreeClassifier</label><div class=\"sk-toggleable__content\"><pre>DecisionTreeClassifier(max_depth=2)</pre></div></div></div><div class=\"sk-serial\"><div class=\"sk-item\"><div class=\"sk-estimator sk-toggleable\"><input class=\"sk-toggleable__control sk-hidden--visually\" id=\"sk-estimator-id-4\" type=\"checkbox\" ><label for=\"sk-estimator-id-4\" class=\"sk-toggleable__label sk-toggleable__label-arrow\">DecisionTreeClassifier</label><div class=\"sk-toggleable__content\"><pre>DecisionTreeClassifier(max_depth=2)</pre></div></div></div></div></div></div></div></div></div></div>"
      ],
      "text/plain": [
       "GridSearchCV(cv=4, estimator=DecisionTreeClassifier(max_depth=2),\n",
       "             param_grid={'max_depth': [1, 2, 4, 6, 8, 10, 12]},\n",
       "             pre_dispatch='None', return_train_score=True, scoring='roc_auc',\n",
       "             verbose=1)"
      ]
     },
     "execution_count": 25,
     "metadata": {},
     "output_type": "execute_result"
    }
   ],
   "source": [
    "cv.fit(X_train, y_train)"
   ]
  },
  {
   "cell_type": "markdown",
   "metadata": {},
   "source": [
    "Todas as opções que especificamos foram exibidas como parte da saída. Além disso, há algumas informações na saída sobre quantos ajustes de validação cruzada foram executados. Tínmhamos 4 folds e 7 hiperparâmetros, o que totaliza 4 x 7 = 28 ajustes. O tempo que gastamos também foi exibido. Você pode controlar o volume de saída que deseja obter desse procedimento com o argumento de palavra-chave *verbose*; números maiores significam mais saída.\n",
    "\n",
    "É hora de examinar os resultado do procedimento de validação cruzada. O método *cv_results_* é um dos que estão disponíveis no objeto *GridSearchCV* ajustado. Trata-se de um dicionário contendo os nomes dos resultados como chaves e os resultados prorpiamente deitos como valores. Por exemplo, a chave *mean_test_score* contém o resultado da média do teste em todos os folds para cada um dos sete hiperparâmetros. Você poderia examinar essa saída diretamente executando *cv.cv_results em uma célula de código. No entanto, ela não seria facil de ler. Dicionários com esse tipo de estrutura podem ser usados imediatamente na criação de um DataFrame no pandas, o que facilita a leitura dos resultados."
   ]
  },
  {
   "cell_type": "markdown",
   "metadata": {},
   "source": [
    "6. Execute o código a seguir para criar e examinar um DataFrame do pandas com resultados de validação cruzada:"
   ]
  },
  {
   "cell_type": "code",
   "execution_count": 26,
   "metadata": {},
   "outputs": [
    {
     "data": {
      "text/html": [
       "<div>\n",
       "<style scoped>\n",
       "    .dataframe tbody tr th:only-of-type {\n",
       "        vertical-align: middle;\n",
       "    }\n",
       "\n",
       "    .dataframe tbody tr th {\n",
       "        vertical-align: top;\n",
       "    }\n",
       "\n",
       "    .dataframe thead th {\n",
       "        text-align: right;\n",
       "    }\n",
       "</style>\n",
       "<table border=\"1\" class=\"dataframe\">\n",
       "  <thead>\n",
       "    <tr style=\"text-align: right;\">\n",
       "      <th></th>\n",
       "      <th>mean_fit_time</th>\n",
       "      <th>std_fit_time</th>\n",
       "      <th>mean_score_time</th>\n",
       "      <th>std_score_time</th>\n",
       "      <th>param_max_depth</th>\n",
       "      <th>params</th>\n",
       "      <th>split0_test_score</th>\n",
       "      <th>split1_test_score</th>\n",
       "      <th>split2_test_score</th>\n",
       "      <th>split3_test_score</th>\n",
       "      <th>mean_test_score</th>\n",
       "      <th>std_test_score</th>\n",
       "      <th>rank_test_score</th>\n",
       "      <th>split0_train_score</th>\n",
       "      <th>split1_train_score</th>\n",
       "      <th>split2_train_score</th>\n",
       "      <th>split3_train_score</th>\n",
       "      <th>mean_train_score</th>\n",
       "      <th>std_train_score</th>\n",
       "    </tr>\n",
       "  </thead>\n",
       "  <tbody>\n",
       "    <tr>\n",
       "      <th>0</th>\n",
       "      <td>0.029104</td>\n",
       "      <td>0.000483</td>\n",
       "      <td>0.004348</td>\n",
       "      <td>0.001200</td>\n",
       "      <td>1</td>\n",
       "      <td>{'max_depth': 1}</td>\n",
       "      <td>0.639514</td>\n",
       "      <td>0.643398</td>\n",
       "      <td>0.651891</td>\n",
       "      <td>0.650753</td>\n",
       "      <td>0.646389</td>\n",
       "      <td>0.005136</td>\n",
       "      <td>7</td>\n",
       "      <td>0.648680</td>\n",
       "      <td>0.647384</td>\n",
       "      <td>0.644553</td>\n",
       "      <td>0.644934</td>\n",
       "      <td>0.646388</td>\n",
       "      <td>0.001712</td>\n",
       "    </tr>\n",
       "    <tr>\n",
       "      <th>1</th>\n",
       "      <td>0.053468</td>\n",
       "      <td>0.001004</td>\n",
       "      <td>0.003626</td>\n",
       "      <td>0.000251</td>\n",
       "      <td>2</td>\n",
       "      <td>{'max_depth': 2}</td>\n",
       "      <td>0.695134</td>\n",
       "      <td>0.699022</td>\n",
       "      <td>0.713376</td>\n",
       "      <td>0.699510</td>\n",
       "      <td>0.701761</td>\n",
       "      <td>0.006917</td>\n",
       "      <td>5</td>\n",
       "      <td>0.704034</td>\n",
       "      <td>0.702700</td>\n",
       "      <td>0.698113</td>\n",
       "      <td>0.702535</td>\n",
       "      <td>0.701845</td>\n",
       "      <td>0.002232</td>\n",
       "    </tr>\n",
       "    <tr>\n",
       "      <th>2</th>\n",
       "      <td>0.087071</td>\n",
       "      <td>0.001170</td>\n",
       "      <td>0.003347</td>\n",
       "      <td>0.000179</td>\n",
       "      <td>4</td>\n",
       "      <td>{'max_depth': 4}</td>\n",
       "      <td>0.732720</td>\n",
       "      <td>0.741078</td>\n",
       "      <td>0.746946</td>\n",
       "      <td>0.743731</td>\n",
       "      <td>0.741119</td>\n",
       "      <td>0.005276</td>\n",
       "      <td>2</td>\n",
       "      <td>0.756882</td>\n",
       "      <td>0.752421</td>\n",
       "      <td>0.749368</td>\n",
       "      <td>0.753055</td>\n",
       "      <td>0.752932</td>\n",
       "      <td>0.002673</td>\n",
       "    </tr>\n",
       "    <tr>\n",
       "      <th>3</th>\n",
       "      <td>0.131989</td>\n",
       "      <td>0.005596</td>\n",
       "      <td>0.004090</td>\n",
       "      <td>0.001007</td>\n",
       "      <td>6</td>\n",
       "      <td>{'max_depth': 6}</td>\n",
       "      <td>0.744076</td>\n",
       "      <td>0.746505</td>\n",
       "      <td>0.751230</td>\n",
       "      <td>0.741517</td>\n",
       "      <td>0.745832</td>\n",
       "      <td>0.003581</td>\n",
       "      <td>1</td>\n",
       "      <td>0.782202</td>\n",
       "      <td>0.780125</td>\n",
       "      <td>0.775228</td>\n",
       "      <td>0.774750</td>\n",
       "      <td>0.778076</td>\n",
       "      <td>0.003178</td>\n",
       "    </tr>\n",
       "    <tr>\n",
       "      <th>4</th>\n",
       "      <td>0.157844</td>\n",
       "      <td>0.002129</td>\n",
       "      <td>0.003839</td>\n",
       "      <td>0.000101</td>\n",
       "      <td>8</td>\n",
       "      <td>{'max_depth': 8}</td>\n",
       "      <td>0.729524</td>\n",
       "      <td>0.732023</td>\n",
       "      <td>0.750158</td>\n",
       "      <td>0.729601</td>\n",
       "      <td>0.735326</td>\n",
       "      <td>0.008622</td>\n",
       "      <td>3</td>\n",
       "      <td>0.811958</td>\n",
       "      <td>0.808187</td>\n",
       "      <td>0.803415</td>\n",
       "      <td>0.802004</td>\n",
       "      <td>0.806391</td>\n",
       "      <td>0.003947</td>\n",
       "    </tr>\n",
       "    <tr>\n",
       "      <th>5</th>\n",
       "      <td>0.188615</td>\n",
       "      <td>0.004671</td>\n",
       "      <td>0.003523</td>\n",
       "      <td>0.000349</td>\n",
       "      <td>10</td>\n",
       "      <td>{'max_depth': 10}</td>\n",
       "      <td>0.710467</td>\n",
       "      <td>0.705948</td>\n",
       "      <td>0.718108</td>\n",
       "      <td>0.712953</td>\n",
       "      <td>0.711869</td>\n",
       "      <td>0.004391</td>\n",
       "      <td>4</td>\n",
       "      <td>0.849470</td>\n",
       "      <td>0.854313</td>\n",
       "      <td>0.841285</td>\n",
       "      <td>0.837073</td>\n",
       "      <td>0.845535</td>\n",
       "      <td>0.006749</td>\n",
       "    </tr>\n",
       "    <tr>\n",
       "      <th>6</th>\n",
       "      <td>0.218489</td>\n",
       "      <td>0.002165</td>\n",
       "      <td>0.003493</td>\n",
       "      <td>0.000253</td>\n",
       "      <td>12</td>\n",
       "      <td>{'max_depth': 12}</td>\n",
       "      <td>0.674454</td>\n",
       "      <td>0.656018</td>\n",
       "      <td>0.673875</td>\n",
       "      <td>0.677981</td>\n",
       "      <td>0.670582</td>\n",
       "      <td>0.008554</td>\n",
       "      <td>6</td>\n",
       "      <td>0.888099</td>\n",
       "      <td>0.903608</td>\n",
       "      <td>0.885479</td>\n",
       "      <td>0.875527</td>\n",
       "      <td>0.888178</td>\n",
       "      <td>0.010067</td>\n",
       "    </tr>\n",
       "  </tbody>\n",
       "</table>\n",
       "</div>"
      ],
      "text/plain": [
       "   mean_fit_time  std_fit_time  mean_score_time  std_score_time  \\\n",
       "0       0.029104      0.000483         0.004348        0.001200   \n",
       "1       0.053468      0.001004         0.003626        0.000251   \n",
       "2       0.087071      0.001170         0.003347        0.000179   \n",
       "3       0.131989      0.005596         0.004090        0.001007   \n",
       "4       0.157844      0.002129         0.003839        0.000101   \n",
       "5       0.188615      0.004671         0.003523        0.000349   \n",
       "6       0.218489      0.002165         0.003493        0.000253   \n",
       "\n",
       "  param_max_depth             params  split0_test_score  split1_test_score  \\\n",
       "0               1   {'max_depth': 1}           0.639514           0.643398   \n",
       "1               2   {'max_depth': 2}           0.695134           0.699022   \n",
       "2               4   {'max_depth': 4}           0.732720           0.741078   \n",
       "3               6   {'max_depth': 6}           0.744076           0.746505   \n",
       "4               8   {'max_depth': 8}           0.729524           0.732023   \n",
       "5              10  {'max_depth': 10}           0.710467           0.705948   \n",
       "6              12  {'max_depth': 12}           0.674454           0.656018   \n",
       "\n",
       "   split2_test_score  split3_test_score  mean_test_score  std_test_score  \\\n",
       "0           0.651891           0.650753         0.646389        0.005136   \n",
       "1           0.713376           0.699510         0.701761        0.006917   \n",
       "2           0.746946           0.743731         0.741119        0.005276   \n",
       "3           0.751230           0.741517         0.745832        0.003581   \n",
       "4           0.750158           0.729601         0.735326        0.008622   \n",
       "5           0.718108           0.712953         0.711869        0.004391   \n",
       "6           0.673875           0.677981         0.670582        0.008554   \n",
       "\n",
       "   rank_test_score  split0_train_score  split1_train_score  \\\n",
       "0                7            0.648680            0.647384   \n",
       "1                5            0.704034            0.702700   \n",
       "2                2            0.756882            0.752421   \n",
       "3                1            0.782202            0.780125   \n",
       "4                3            0.811958            0.808187   \n",
       "5                4            0.849470            0.854313   \n",
       "6                6            0.888099            0.903608   \n",
       "\n",
       "   split2_train_score  split3_train_score  mean_train_score  std_train_score  \n",
       "0            0.644553            0.644934          0.646388         0.001712  \n",
       "1            0.698113            0.702535          0.701845         0.002232  \n",
       "2            0.749368            0.753055          0.752932         0.002673  \n",
       "3            0.775228            0.774750          0.778076         0.003178  \n",
       "4            0.803415            0.802004          0.806391         0.003947  \n",
       "5            0.841285            0.837073          0.845535         0.006749  \n",
       "6            0.885479            0.875527          0.888178         0.010067  "
      ]
     },
     "execution_count": 26,
     "metadata": {},
     "output_type": "execute_result"
    }
   ],
   "source": [
    "cv_results_df = pd.DataFrame(cv.cv_results_)\n",
    "cv_results_df"
   ]
  },
  {
   "cell_type": "markdown",
   "metadata": {},
   "source": [
    "O DataFrame tem uma linha para cada combinação de hiperparâmetros da grade. Já que só estamos pesquisando um hiperparâmetro aqui, há uma linha para cada um dos sete valores que pesquisamos. Podemos ver uma saída extensa para cada linha, como a média e o desvio padrão do tempo em segundos que cada um dos quatro folds demorou tanto no treinamento (ajuste) quanto no teste (resultado). Os valores de hiperparâmetros que foram pesquisados também são exibidos. Na tabela, podemos ver o resultado da ROC AUC para os dados de teste do primeiro fold (índice 0). Mas quais são as outras colunas do DataFrame de resultados?"
   ]
  },
  {
   "cell_type": "markdown",
   "metadata": {},
   "source": [
    "7. Visualiza os nomes das outras colunas do Dataframe de resultados usando este código:"
   ]
  },
  {
   "cell_type": "code",
   "execution_count": 27,
   "metadata": {},
   "outputs": [
    {
     "data": {
      "text/plain": [
       "Index(['mean_fit_time', 'std_fit_time', 'mean_score_time', 'std_score_time',\n",
       "       'param_max_depth', 'params', 'split0_test_score', 'split1_test_score',\n",
       "       'split2_test_score', 'split3_test_score', 'mean_test_score',\n",
       "       'std_test_score', 'rank_test_score', 'split0_train_score',\n",
       "       'split1_train_score', 'split2_train_score', 'split3_train_score',\n",
       "       'mean_train_score', 'std_train_score'],\n",
       "      dtype='object')"
      ]
     },
     "execution_count": 27,
     "metadata": {},
     "output_type": "execute_result"
    }
   ],
   "source": [
    "cv_results_df.columns"
   ]
  },
  {
   "cell_type": "markdown",
   "metadata": {},
   "source": [
    "As colunas do DataFrame de resultados da validação cruzada incluem os resultados do teste para cada fold, sua média e desvio padrão, e as mesmas informações para os resultados do treinamento.\n",
    "\n",
    "De modo geral, a \"melhor\" combinação de hiperparâmetros é a que tem o resultado de média de teste mais alto. Essa é uma estimativa de como o modelo, ajustado com esses hiperparâmetros, se sairia com novos dados. Criaremos uma pltagem exibindo como o resultado de média do teste varia com o hiperparâmetro *max_depth*. Também exibiremos os resultados de média do treinamento na mesma plotagem, para ver como o viés e a variância mudam à medida que permitimos que as árvores mais profundas e complexas sejam criadas durante o ajuste do modelo.\n",
    "\n",
    "Incluiremos os desvios padrão dos resultados de treinamento e teste de 4 folds como barras de erro, usando a função *errorbar* do Matplotlib. Isso dará uma indicação de quanto os resultados variam entre os folds"
   ]
  },
  {
   "cell_type": "markdown",
   "metadata": {},
   "source": [
    "8. Execute o código a seguir para criar a plotagem de uma barra de erro dos resultados de treinamento e teste para cada valor de *max_depth* que foi examinado na validação cruzada:"
   ]
  },
  {
   "cell_type": "code",
   "execution_count": 28,
   "metadata": {},
   "outputs": [
    {
     "data": {
      "text/plain": [
       "Text(0, 0.5, 'ROC AUC')"
      ]
     },
     "execution_count": 28,
     "metadata": {},
     "output_type": "execute_result"
    },
    {
     "data": {
      "image/png": "[encoded data removed]",
      "text/plain": [
       "<Figure size 640x480 with 1 Axes>"
      ]
     },
     "metadata": {},
     "output_type": "display_data"
    }
   ],
   "source": [
    "ax = plt.axes()\n",
    "ax.errorbar(cv_results_df['param_max_depth'],\n",
    "            cv_results_df['mean_train_score'],\n",
    "            yerr=cv_results_df['std_train_score'],\n",
    "            label='Mean $\\pm$ 1 SD training scores')\n",
    "ax.errorbar(cv_results_df['param_max_depth'],\n",
    "            cv_results_df['mean_test_score'],\n",
    "            yerr=cv_results_df['std_test_score'],\n",
    "            label='Mean $\\pm$ 1 SD testing scores')\n",
    "ax.legend()\n",
    "plt.xlabel('max_depth')\n",
    "plt.ylabel('ROC AUC')"
   ]
  },
  {
   "cell_type": "markdown",
   "metadata": {},
   "source": [
    "Os desvios padrão dos resultados de treinamento e teste são exibidos como linas verticais em cada valor de *max_depth* que foi testado; a distância acima e abaixo do resultado de média tem desvio padrão de 1. Na criação de ploteagens de barra de erro, é melhor assegurar que as unidades de medida de erro sejam iguais às unidades do eixo y. Nesse caso, elas são, já que o desvio padrão tem as mesmas unidades dos dados subjacentes, ao contrario da variância, por exemplo, que tem unidades quadradas.\n",
    "\n",
    "As barras de erro indicam quanto os resultados variam entre os folds. Se houver muita variação, isso indica que a natureza dos dados entre os folds é diferente de uma maneira que afeta a habilidade de o modelo descrevê-la. Esse problema pode ser preocupante porque implica que podemos não ter dados suficientes para treinar um modelo que apresente um desempenho confiável para novos dados. No entanto, em nosso caso, não há muita variabilidade entre os folds, logo, estamos bem.\n",
    "\n",
    "E quanto as tendências gerais dos resultados de treinamento e teste entre os diferentes valores de *max_depth*? Podemos ver que, à medida qeue criamos árvores cada vez mais profundas, o modelo ajusta melhor os dados de treinamento. Como mencionado anteriormente, se criarmos árvores suficientemente grandes para cada nó folha tenha apenas uma amostra de treinamento, geraremos um modelo muito específico dos dados de treinamento. Na verdade, ele ajustaria os dados de treinamento perfeitamente. Poderíamos dizer que esse seria um modelo de variância extremamente alta\n",
    "\n",
    "Porém, esse desempenho com o conjunto de treinamento não é necessariamente passado para o conjunto de teste. Na figura axima, fica claro que o aumento de *max_depth* só aumenta os resultados do teste até um ponto, depois do qual na verdade árvores mais profundas têm desemprenho mais baixo no teste. Esse é outro exemplo de como podemos nos beneficiar do **trade-off entre viés e variância** para criar um modelo preditivo melhor - semelhante a como usamos uma regressão logística regularizada. Árvores menos profundas têm mais **viés**, já que não ajustam tão bem os dados de treinamento. Contudo, isso é bom porque, se aceitarmos algum viés, teremos melhor desempenho nos dados de teste, que é a métrica definitiva usada na seleção de hiperparâmetros de modelos\n",
    "\n",
    "Nesse caso, selecionaríamos *max_depth = 6*. Você também poderia fazer uma pesquisa mais completa, testando todos os inteiros entre 2 a 12, em vez de dar santos de 2 como fizermos aqui. Geralmente, é uma boa ideia executar uma pesquisa o mais completa possível no espaço dos parâmetros, até os limites do tempo de computação que você tiver. No nosso caso, isso levaria ao mesmo resultado.\n",
    "\n",
    "---"
   ]
  },
  {
   "cell_type": "markdown",
   "metadata": {},
   "source": [
    "### Exercício 21: Ajustando uma floresta aleatória\n",
    "\n",
    "Neste exercício, estenderemos os esforços que fizemos com as árvores de decisão, usando o modelo de floresta aleatória com a validação cruzada para os dados de treinamento do estudo de caso. Observaremos o efeito do aumento do número de árvores na floresta e examinaremos a importância das características que pode ser calculada com o uso de um modelo de floresta aleatória. Execute as etapas a seguir para fazer o exercício:"
   ]
  },
  {
   "cell_type": "markdown",
   "metadata": {},
   "source": [
    "1. Importe o modelo classificador de floresta aleatória como mostrado a seguir:"
   ]
  },
  {
   "cell_type": "code",
   "execution_count": 29,
   "metadata": {},
   "outputs": [],
   "source": [
    "from sklearn.ensemble import RandomForestClassifier"
   ]
  },
  {
   "cell_type": "markdown",
   "metadata": {},
   "source": [
    "2. Instancie a classe usando estas opções:"
   ]
  },
  {
   "cell_type": "code",
   "execution_count": 36,
   "metadata": {},
   "outputs": [],
   "source": [
    "rf = RandomForestClassifier(n_estimators=10, criterion='gini', max_depth=3, min_samples_split=2, min_samples_leaf=1, min_weight_fraction_leaf=0.0, max_features='sqrt', max_leaf_nodes=None, min_impurity_decrease=0.0, bootstrap=True, oob_score=False, n_jobs=None, random_state=4, verbose=0, warm_start=False, class_weight=None)"
   ]
  },
  {
   "cell_type": "markdown",
   "metadata": {},
   "source": [
    "Para este exercício, usaremos principalmente as opções padrão. Porém, observe que configuramos *max_depth = 3*. Aqui, só examinaremos o efeito do uso de diferentes números de árvores, que ilustraremos com árvores relativamente rasas para obter runtimes mais curtos. Para encontrar o melhor desempenho do modelo, normalmente faríamos testes com profundidades maiores e em maior número para as árvores\n",
    "\n",
    "Também configuramos *random_state* para obter resultados previsíveis entre as execuções."
   ]
  },
  {
   "cell_type": "markdown",
   "metadata": {},
   "source": [
    "3. Crie uma grade de parâmetros para este exercício para pesquisar os números de árvores variando de 10 a 100:"
   ]
  },
  {
   "cell_type": "code",
   "execution_count": 37,
   "metadata": {},
   "outputs": [],
   "source": [
    "rf_param_ex = {'n_estimators': list(range(10,110,10))}"
   ]
  },
  {
   "cell_type": "markdown",
   "metadata": {},
   "source": [
    "Usamos a função *range()* de Python para criar um iterador para os valores inteiros que queremos e depois os convertemos em uma *list* usando *list()*."
   ]
  },
  {
   "cell_type": "markdown",
   "metadata": {},
   "source": [
    "4. Instancie um objeto de validação cruzada por busca em grade para o modelo de floresta aleatória usando a grade de parâmetros da etapa anterior. Caso contrário, você pode usar as mesmas opções de validação cruzada da árvore de decisão:"
   ]
  },
  {
   "cell_type": "code",
   "execution_count": 38,
   "metadata": {},
   "outputs": [],
   "source": [
    "cv_rf_ex = GridSearchCV(rf, param_grid=rf_param_ex, scoring='roc_auc', n_jobs=None, refit=True, cv=4, verbose=1, pre_dispatch='None', error_score='raise', return_train_score=True)"
   ]
  },
  {
   "cell_type": "markdown",
   "metadata": {},
   "source": [
    "5. Ajuste o objeto de validação cruzada como mostrado a seguir:"
   ]
  },
  {
   "cell_type": "code",
   "execution_count": 39,
   "metadata": {},
   "outputs": [
    {
     "name": "stdout",
     "output_type": "stream",
     "text": [
      "Fitting 4 folds for each of 10 candidates, totalling 40 fits\n"
     ]
    },
    {
     "data": {
      "text/html": [
       "<style>#sk-container-id-3 {color: black;}#sk-container-id-3 pre{padding: 0;}#sk-container-id-3 div.sk-toggleable {background-color: white;}#sk-container-id-3 label.sk-toggleable__label {cursor: pointer;display: block;width: 100%;margin-bottom: 0;padding: 0.3em;box-sizing: border-box;text-align: center;}#sk-container-id-3 label.sk-toggleable__label-arrow:before {content: \"▸\";float: left;margin-right: 0.25em;color: #696969;}#sk-container-id-3 label.sk-toggleable__label-arrow:hover:before {color: black;}#sk-container-id-3 div.sk-estimator:hover label.sk-toggleable__label-arrow:before {color: black;}#sk-container-id-3 div.sk-toggleable__content {max-height: 0;max-width: 0;overflow: hidden;text-align: left;background-color: #f0f8ff;}#sk-container-id-3 div.sk-toggleable__content pre {margin: 0.2em;color: black;border-radius: 0.25em;background-color: #f0f8ff;}#sk-container-id-3 input.sk-toggleable__control:checked~div.sk-toggleable__content {max-height: 200px;max-width: 100%;overflow: auto;}#sk-container-id-3 input.sk-toggleable__control:checked~label.sk-toggleable__label-arrow:before {content: \"▾\";}#sk-container-id-3 div.sk-estimator input.sk-toggleable__control:checked~label.sk-toggleable__label {background-color: #d4ebff;}#sk-container-id-3 div.sk-label input.sk-toggleable__control:checked~label.sk-toggleable__label {background-color: #d4ebff;}#sk-container-id-3 input.sk-hidden--visually {border: 0;clip: rect(1px 1px 1px 1px);clip: rect(1px, 1px, 1px, 1px);height: 1px;margin: -1px;overflow: hidden;padding: 0;position: absolute;width: 1px;}#sk-container-id-3 div.sk-estimator {font-family: monospace;background-color: #f0f8ff;border: 1px dotted black;border-radius: 0.25em;box-sizing: border-box;margin-bottom: 0.5em;}#sk-container-id-3 div.sk-estimator:hover {background-color: #d4ebff;}#sk-container-id-3 div.sk-parallel-item::after {content: \"\";width: 100%;border-bottom: 1px solid gray;flex-grow: 1;}#sk-container-id-3 div.sk-label:hover label.sk-toggleable__label {background-color: #d4ebff;}#sk-container-id-3 div.sk-serial::before {content: \"\";position: absolute;border-left: 1px solid gray;box-sizing: border-box;top: 0;bottom: 0;left: 50%;z-index: 0;}#sk-container-id-3 div.sk-serial {display: flex;flex-direction: column;align-items: center;background-color: white;padding-right: 0.2em;padding-left: 0.2em;position: relative;}#sk-container-id-3 div.sk-item {position: relative;z-index: 1;}#sk-container-id-3 div.sk-parallel {display: flex;align-items: stretch;justify-content: center;background-color: white;position: relative;}#sk-container-id-3 div.sk-item::before, #sk-container-id-3 div.sk-parallel-item::before {content: \"\";position: absolute;border-left: 1px solid gray;box-sizing: border-box;top: 0;bottom: 0;left: 50%;z-index: -1;}#sk-container-id-3 div.sk-parallel-item {display: flex;flex-direction: column;z-index: 1;position: relative;background-color: white;}#sk-container-id-3 div.sk-parallel-item:first-child::after {align-self: flex-end;width: 50%;}#sk-container-id-3 div.sk-parallel-item:last-child::after {align-self: flex-start;width: 50%;}#sk-container-id-3 div.sk-parallel-item:only-child::after {width: 0;}#sk-container-id-3 div.sk-dashed-wrapped {border: 1px dashed gray;margin: 0 0.4em 0.5em 0.4em;box-sizing: border-box;padding-bottom: 0.4em;background-color: white;}#sk-container-id-3 div.sk-label label {font-family: monospace;font-weight: bold;display: inline-block;line-height: 1.2em;}#sk-container-id-3 div.sk-label-container {text-align: center;}#sk-container-id-3 div.sk-container {/* jupyter's `normalize.less` sets `[hidden] { display: none; }` but bootstrap.min.css set `[hidden] { display: none !important; }` so we also need the `!important` here to be able to override the default hidden behavior on the sphinx rendered scikit-learn.org. See: https://github.com/scikit-learn/scikit-learn/issues/21755 */display: inline-block !important;position: relative;}#sk-container-id-3 div.sk-text-repr-fallback {display: none;}</style><div id=\"sk-container-id-3\" class=\"sk-top-container\"><div class=\"sk-text-repr-fallback\"><pre>GridSearchCV(cv=4, error_score=&#x27;raise&#x27;,\n",
       "             estimator=RandomForestClassifier(max_depth=3, n_estimators=10,\n",
       "                                              random_state=4),\n",
       "             param_grid={&#x27;n_estimators&#x27;: [10, 20, 30, 40, 50, 60, 70, 80, 90,\n",
       "                                          100]},\n",
       "             pre_dispatch=&#x27;None&#x27;, return_train_score=True, scoring=&#x27;roc_auc&#x27;,\n",
       "             verbose=1)</pre><b>In a Jupyter environment, please rerun this cell to show the HTML representation or trust the notebook. <br />On GitHub, the HTML representation is unable to render, please try loading this page with nbviewer.org.</b></div><div class=\"sk-container\" hidden><div class=\"sk-item sk-dashed-wrapped\"><div class=\"sk-label-container\"><div class=\"sk-label sk-toggleable\"><input class=\"sk-toggleable__control sk-hidden--visually\" id=\"sk-estimator-id-5\" type=\"checkbox\" ><label for=\"sk-estimator-id-5\" class=\"sk-toggleable__label sk-toggleable__label-arrow\">GridSearchCV</label><div class=\"sk-toggleable__content\"><pre>GridSearchCV(cv=4, error_score=&#x27;raise&#x27;,\n",
       "             estimator=RandomForestClassifier(max_depth=3, n_estimators=10,\n",
       "                                              random_state=4),\n",
       "             param_grid={&#x27;n_estimators&#x27;: [10, 20, 30, 40, 50, 60, 70, 80, 90,\n",
       "                                          100]},\n",
       "             pre_dispatch=&#x27;None&#x27;, return_train_score=True, scoring=&#x27;roc_auc&#x27;,\n",
       "             verbose=1)</pre></div></div></div><div class=\"sk-parallel\"><div class=\"sk-parallel-item\"><div class=\"sk-item\"><div class=\"sk-label-container\"><div class=\"sk-label sk-toggleable\"><input class=\"sk-toggleable__control sk-hidden--visually\" id=\"sk-estimator-id-6\" type=\"checkbox\" ><label for=\"sk-estimator-id-6\" class=\"sk-toggleable__label sk-toggleable__label-arrow\">estimator: RandomForestClassifier</label><div class=\"sk-toggleable__content\"><pre>RandomForestClassifier(max_depth=3, n_estimators=10, random_state=4)</pre></div></div></div><div class=\"sk-serial\"><div class=\"sk-item\"><div class=\"sk-estimator sk-toggleable\"><input class=\"sk-toggleable__control sk-hidden--visually\" id=\"sk-estimator-id-7\" type=\"checkbox\" ><label for=\"sk-estimator-id-7\" class=\"sk-toggleable__label sk-toggleable__label-arrow\">RandomForestClassifier</label><div class=\"sk-toggleable__content\"><pre>RandomForestClassifier(max_depth=3, n_estimators=10, random_state=4)</pre></div></div></div></div></div></div></div></div></div></div>"
      ],
      "text/plain": [
       "GridSearchCV(cv=4, error_score='raise',\n",
       "             estimator=RandomForestClassifier(max_depth=3, n_estimators=10,\n",
       "                                              random_state=4),\n",
       "             param_grid={'n_estimators': [10, 20, 30, 40, 50, 60, 70, 80, 90,\n",
       "                                          100]},\n",
       "             pre_dispatch='None', return_train_score=True, scoring='roc_auc',\n",
       "             verbose=1)"
      ]
     },
     "execution_count": 39,
     "metadata": {},
     "output_type": "execute_result"
    }
   ],
   "source": [
    "cv_rf_ex.fit(X_train, y_train)"
   ]
  },
  {
   "cell_type": "markdown",
   "metadata": {},
   "source": [
    "Você deve ter notado que, embora só estejamos usando a validação cruzada para 10 valores de hiperparâmetros, em comparação com os 7 valores que exataminamos para a árvore de decisão do exercicio anterior, essa validação cruzada demorou mais. Considere quantas árvores estamos criando nesse caso. Para o último hiperparâmetro, *n_estimators = 100*, criamos um total de 400 árvores para todas as divisões da validação cruzada.\n",
    "\n",
    "Quanto tempo demorou o ajuste do modelo para os diferentes números de árvores que acabamos de usar? Que ganhos foram gerados para o desempenho do teste na validação cruzada com o uso de mais árvores? Essas são questões interessantes para serem examinadas com o uso de plotagens. Primeiro passaremos os resultados da validação cruzada para um DataFrame do pandas como fizemos antes."
   ]
  },
  {
   "cell_type": "markdown",
   "metadata": {},
   "source": [
    "6. Insira os resultados da validação cruzada em um DataFrame do pandas."
   ]
  },
  {
   "cell_type": "code",
   "execution_count": 40,
   "metadata": {},
   "outputs": [
    {
     "data": {
      "text/html": [
       "<div>\n",
       "<style scoped>\n",
       "    .dataframe tbody tr th:only-of-type {\n",
       "        vertical-align: middle;\n",
       "    }\n",
       "\n",
       "    .dataframe tbody tr th {\n",
       "        vertical-align: top;\n",
       "    }\n",
       "\n",
       "    .dataframe thead th {\n",
       "        text-align: right;\n",
       "    }\n",
       "</style>\n",
       "<table border=\"1\" class=\"dataframe\">\n",
       "  <thead>\n",
       "    <tr style=\"text-align: right;\">\n",
       "      <th></th>\n",
       "      <th>mean_fit_time</th>\n",
       "      <th>std_fit_time</th>\n",
       "      <th>mean_score_time</th>\n",
       "      <th>std_score_time</th>\n",
       "      <th>param_n_estimators</th>\n",
       "      <th>params</th>\n",
       "      <th>split0_test_score</th>\n",
       "      <th>split1_test_score</th>\n",
       "      <th>split2_test_score</th>\n",
       "      <th>split3_test_score</th>\n",
       "      <th>mean_test_score</th>\n",
       "      <th>std_test_score</th>\n",
       "      <th>rank_test_score</th>\n",
       "      <th>split0_train_score</th>\n",
       "      <th>split1_train_score</th>\n",
       "      <th>split2_train_score</th>\n",
       "      <th>split3_train_score</th>\n",
       "      <th>mean_train_score</th>\n",
       "      <th>std_train_score</th>\n",
       "    </tr>\n",
       "  </thead>\n",
       "  <tbody>\n",
       "    <tr>\n",
       "      <th>0</th>\n",
       "      <td>0.153000</td>\n",
       "      <td>0.005813</td>\n",
       "      <td>0.007079</td>\n",
       "      <td>0.000069</td>\n",
       "      <td>10</td>\n",
       "      <td>{'n_estimators': 10}</td>\n",
       "      <td>0.739183</td>\n",
       "      <td>0.746599</td>\n",
       "      <td>0.772127</td>\n",
       "      <td>0.771322</td>\n",
       "      <td>0.757308</td>\n",
       "      <td>0.014656</td>\n",
       "      <td>10</td>\n",
       "      <td>0.767973</td>\n",
       "      <td>0.767158</td>\n",
       "      <td>0.760550</td>\n",
       "      <td>0.763683</td>\n",
       "      <td>0.764841</td>\n",
       "      <td>0.002955</td>\n",
       "    </tr>\n",
       "    <tr>\n",
       "      <th>1</th>\n",
       "      <td>0.287683</td>\n",
       "      <td>0.014160</td>\n",
       "      <td>0.010045</td>\n",
       "      <td>0.000827</td>\n",
       "      <td>20</td>\n",
       "      <td>{'n_estimators': 20}</td>\n",
       "      <td>0.745612</td>\n",
       "      <td>0.753712</td>\n",
       "      <td>0.777616</td>\n",
       "      <td>0.771737</td>\n",
       "      <td>0.762169</td>\n",
       "      <td>0.012998</td>\n",
       "      <td>9</td>\n",
       "      <td>0.772819</td>\n",
       "      <td>0.771499</td>\n",
       "      <td>0.765944</td>\n",
       "      <td>0.765395</td>\n",
       "      <td>0.768914</td>\n",
       "      <td>0.003284</td>\n",
       "    </tr>\n",
       "    <tr>\n",
       "      <th>2</th>\n",
       "      <td>0.352754</td>\n",
       "      <td>0.001717</td>\n",
       "      <td>0.011404</td>\n",
       "      <td>0.000051</td>\n",
       "      <td>30</td>\n",
       "      <td>{'n_estimators': 30}</td>\n",
       "      <td>0.747259</td>\n",
       "      <td>0.754154</td>\n",
       "      <td>0.777954</td>\n",
       "      <td>0.771825</td>\n",
       "      <td>0.762798</td>\n",
       "      <td>0.012524</td>\n",
       "      <td>7</td>\n",
       "      <td>0.774655</td>\n",
       "      <td>0.772100</td>\n",
       "      <td>0.765026</td>\n",
       "      <td>0.766697</td>\n",
       "      <td>0.769620</td>\n",
       "      <td>0.003910</td>\n",
       "    </tr>\n",
       "    <tr>\n",
       "      <th>3</th>\n",
       "      <td>0.485313</td>\n",
       "      <td>0.013586</td>\n",
       "      <td>0.014330</td>\n",
       "      <td>0.000306</td>\n",
       "      <td>40</td>\n",
       "      <td>{'n_estimators': 40}</td>\n",
       "      <td>0.746682</td>\n",
       "      <td>0.754553</td>\n",
       "      <td>0.777709</td>\n",
       "      <td>0.773134</td>\n",
       "      <td>0.763020</td>\n",
       "      <td>0.012813</td>\n",
       "      <td>4</td>\n",
       "      <td>0.774300</td>\n",
       "      <td>0.772642</td>\n",
       "      <td>0.765051</td>\n",
       "      <td>0.765876</td>\n",
       "      <td>0.769467</td>\n",
       "      <td>0.004057</td>\n",
       "    </tr>\n",
       "    <tr>\n",
       "      <th>4</th>\n",
       "      <td>0.617566</td>\n",
       "      <td>0.015873</td>\n",
       "      <td>0.017564</td>\n",
       "      <td>0.000494</td>\n",
       "      <td>50</td>\n",
       "      <td>{'n_estimators': 50}</td>\n",
       "      <td>0.748009</td>\n",
       "      <td>0.755878</td>\n",
       "      <td>0.779465</td>\n",
       "      <td>0.771250</td>\n",
       "      <td>0.763651</td>\n",
       "      <td>0.012379</td>\n",
       "      <td>1</td>\n",
       "      <td>0.775241</td>\n",
       "      <td>0.774025</td>\n",
       "      <td>0.765732</td>\n",
       "      <td>0.766947</td>\n",
       "      <td>0.770486</td>\n",
       "      <td>0.004191</td>\n",
       "    </tr>\n",
       "  </tbody>\n",
       "</table>\n",
       "</div>"
      ],
      "text/plain": [
       "   mean_fit_time  std_fit_time  mean_score_time  std_score_time  \\\n",
       "0       0.153000      0.005813         0.007079        0.000069   \n",
       "1       0.287683      0.014160         0.010045        0.000827   \n",
       "2       0.352754      0.001717         0.011404        0.000051   \n",
       "3       0.485313      0.013586         0.014330        0.000306   \n",
       "4       0.617566      0.015873         0.017564        0.000494   \n",
       "\n",
       "  param_n_estimators                params  split0_test_score  \\\n",
       "0                 10  {'n_estimators': 10}           0.739183   \n",
       "1                 20  {'n_estimators': 20}           0.745612   \n",
       "2                 30  {'n_estimators': 30}           0.747259   \n",
       "3                 40  {'n_estimators': 40}           0.746682   \n",
       "4                 50  {'n_estimators': 50}           0.748009   \n",
       "\n",
       "   split1_test_score  split2_test_score  split3_test_score  mean_test_score  \\\n",
       "0           0.746599           0.772127           0.771322         0.757308   \n",
       "1           0.753712           0.777616           0.771737         0.762169   \n",
       "2           0.754154           0.777954           0.771825         0.762798   \n",
       "3           0.754553           0.777709           0.773134         0.763020   \n",
       "4           0.755878           0.779465           0.771250         0.763651   \n",
       "\n",
       "   std_test_score  rank_test_score  split0_train_score  split1_train_score  \\\n",
       "0        0.014656               10            0.767973            0.767158   \n",
       "1        0.012998                9            0.772819            0.771499   \n",
       "2        0.012524                7            0.774655            0.772100   \n",
       "3        0.012813                4            0.774300            0.772642   \n",
       "4        0.012379                1            0.775241            0.774025   \n",
       "\n",
       "   split2_train_score  split3_train_score  mean_train_score  std_train_score  \n",
       "0            0.760550            0.763683          0.764841         0.002955  \n",
       "1            0.765944            0.765395          0.768914         0.003284  \n",
       "2            0.765026            0.766697          0.769620         0.003910  \n",
       "3            0.765051            0.765876          0.769467         0.004057  \n",
       "4            0.765732            0.766947          0.770486         0.004191  "
      ]
     },
     "execution_count": 40,
     "metadata": {},
     "output_type": "execute_result"
    }
   ],
   "source": [
    "cv_rf_ex_results_df = pd.DataFrame(cv_rf_ex.cv_results_)\n",
    "cv_rf_ex_results_df.head()"
   ]
  },
  {
   "cell_type": "markdown",
   "metadata": {},
   "source": [
    "7. Crie subplotagens, do tempo médio e dos resultados de média do teste com desvio padrão:"
   ]
  },
  {
   "cell_type": "code",
   "execution_count": 42,
   "metadata": {},
   "outputs": [
    {
     "data": {
      "image/png": "[encoded data removed]",
      "text/plain": [
       "<Figure size 600x300 with 2 Axes>"
      ]
     },
     "metadata": {},
     "output_type": "display_data"
    }
   ],
   "source": [
    "fig, axs = plt.subplots(nrows=1, ncols=2, figsize=(6,3))\n",
    "axs[0].plot(cv_rf_ex_results_df['param_n_estimators'],\n",
    "            cv_rf_ex_results_df['mean_fit_time'],\n",
    "            '-o')\n",
    "axs[0].set_xlabel('Number of trees')\n",
    "axs[0].set_ylabel('Mean fit time (seconds)')\n",
    "axs[1].errorbar(cv_rf_ex_results_df['param_n_estimators'],\n",
    "                cv_rf_ex_results_df['mean_test_score'],\n",
    "                yerr=cv_rf_ex_results_df['std_test_score'])\n",
    "axs[1].set_xlabel('Number of trees')\n",
    "axs[1].set_ylabel('Mean testing ROC AUC $\\pm$ 1 SD')\n",
    "plt.tight_layout()"
   ]
  },
  {
   "cell_type": "markdown",
   "metadata": {},
   "source": [
    "Aqui, usamos plt. subplots para criar dois eixos ao mesmo tempo dentro de uma figura em uma configuração de uma linha por duas colunas. Em seguida, acessamos os objetos de eixo, indexando o array de eixos axs retornado por essa operação para criar plotagens.\n",
    "\n",
    "Há varias coisas que podemos observar nessas visualizações. Em primeiro lugar, podemos ver que usando uma floresta aleatória, o desempenho do modelo nos folds de teste da validação cruzada foi melhor que o de qualquer um de nossos esforços anteriores. Embora não tenhamos tentado ajustar os hiperparâmetros da flores aleatória para chegar ao melhor desempenho possível, esse é um resultado promissor e indica que uma floresta aleatória será um acrescimo valioso aos nossos esforços de modelagem\n",
    "\n",
    "No entanto, junto com esses resultados mais altos para o teste do modelo, observe que também há mais variabilidade entre os folds do que vimos com a árvore de decisão; essa variabilidade é vista como desvios padrão maiores nos resultados de teste do modelo entre folds. Embora issoo indique que há uma variação no desempenho maior do que a esperada com o uso desse modelo, recomendamos que você examine os resultados de teste dos fold direnamente no DataFrame do pandas. Deve ver que até mesmo o menor resultado de um fold individual ainda é maior que o resultado médio de teste da árvore de decisão indicando que será melhor usar uma floresta aleatória.\n",
    "\n",
    "E quanto às outras questões que queríamos examisnar com essa visualização? Queremos ver quanto leva o ajuste de modelos de floresta aleatória com vários números de árvores e quais são os ganhos no desempenho do modelo com o uso de mais árvores. A sub plotagem da esquerda mostra que há um aumento linear no tempo de treinamento à medida que mais árvores são adicionadas à floresta. isso é esperado; estamos multiplicando o volume de computação a ser executado no procedimento de treinamento com a inclusão de mais árvores.\n",
    "\n",
    "Esse tempo de adicional vale a pena em termos de aumento de desempenho do modelo? A subplotagem da direitamostra que acima de cerca de 20 árvores não fica claro se a inclusão de mais árvores melhora realmente o desempenho do teste. Embora o modelo com 50 árvores tenho o resultado mais alto, o fato de a inclusão de mais árvores na verdade diminuir um pouco a pontuação de teste indica que o ganho na ROC AUC para 50 árvores deve ter ocorrido devido à aleatoriedade, já que teoricamente incluir mais árvores deve aumentar o desempenho do modelo. De acordo com esse raciocínio, se estivéssemos limitados a *max_depth = 3*, poderiamos optar por uma floresta de 20 ou talvez 50 árvores e prosseguir. Contudo, examinaremos o espaço dos parâmetros mais detalhadamente na atividade do fim deste capítulo.\n",
    "\n",
    "Para concluir, observe que não mostramos as métricas ROC AUC de treinamento. Se você plotasse ou as procurasse no DataFrame de resultados, veria que as pontuações de treinamento são maiores que as de teste, indicando que algum nível de overfitting está ocorrendo. Embora possa ser esse o caso, também é verdade que a pontuação de teste desse modelo de floresta aleatória é mais alta do que a que observamos para qualquer outro modelo. Com base nesse resultado, provavelmente selecionaríamos o modelo de floresta aleatória.\n",
    "\n",
    "Como aprendizado adicional sobre o que podemos acessar usando nosso objeto de validação cruzada ajustado, examinaremos os melhores hiperparâmetros e a importância das características."
   ]
  },
  {
   "cell_type": "markdown",
   "metadata": {},
   "source": [
    "8. Use este código para ver os melhores hiperparâmetros fornecidos pela validação cruzada:"
   ]
  },
  {
   "cell_type": "code",
   "execution_count": 43,
   "metadata": {},
   "outputs": [
    {
     "data": {
      "text/plain": [
       "{'n_estimators': 50}"
      ]
     },
     "execution_count": 43,
     "metadata": {},
     "output_type": "execute_result"
    }
   ],
   "source": [
    "cv_rf_ex.best_params_"
   ]
  },
  {
   "cell_type": "markdown",
   "metadata": {},
   "source": [
    "Aqui, \"melhor\" significa apenas os hiperparâmetros que resultaram na mais alta pontuação média de teste do modelo."
   ]
  },
  {
   "cell_type": "markdown",
   "metadata": {},
   "source": [
    "9. Execute este código para criar um DataFrame dos nomes e da importância das características e exiba-o classificado por importância:"
   ]
  },
  {
   "cell_type": "code",
   "execution_count": 45,
   "metadata": {},
   "outputs": [
    {
     "data": {
      "text/html": [
       "<div>\n",
       "<style scoped>\n",
       "    .dataframe tbody tr th:only-of-type {\n",
       "        vertical-align: middle;\n",
       "    }\n",
       "\n",
       "    .dataframe tbody tr th {\n",
       "        vertical-align: top;\n",
       "    }\n",
       "\n",
       "    .dataframe thead th {\n",
       "        text-align: right;\n",
       "    }\n",
       "</style>\n",
       "<table border=\"1\" class=\"dataframe\">\n",
       "  <thead>\n",
       "    <tr style=\"text-align: right;\">\n",
       "      <th></th>\n",
       "      <th>Feature name</th>\n",
       "      <th>Importance</th>\n",
       "    </tr>\n",
       "  </thead>\n",
       "  <tbody>\n",
       "    <tr>\n",
       "      <th>4</th>\n",
       "      <td>PAY_1</td>\n",
       "      <td>0.609609</td>\n",
       "    </tr>\n",
       "    <tr>\n",
       "      <th>11</th>\n",
       "      <td>PAY_AMT1</td>\n",
       "      <td>0.094123</td>\n",
       "    </tr>\n",
       "    <tr>\n",
       "      <th>0</th>\n",
       "      <td>LIMIT_BAL</td>\n",
       "      <td>0.079265</td>\n",
       "    </tr>\n",
       "    <tr>\n",
       "      <th>13</th>\n",
       "      <td>PAY_AMT3</td>\n",
       "      <td>0.047067</td>\n",
       "    </tr>\n",
       "    <tr>\n",
       "      <th>12</th>\n",
       "      <td>PAY_AMT2</td>\n",
       "      <td>0.035393</td>\n",
       "    </tr>\n",
       "    <tr>\n",
       "      <th>6</th>\n",
       "      <td>BILL_AMT2</td>\n",
       "      <td>0.022422</td>\n",
       "    </tr>\n",
       "    <tr>\n",
       "      <th>14</th>\n",
       "      <td>PAY_AMT4</td>\n",
       "      <td>0.021164</td>\n",
       "    </tr>\n",
       "    <tr>\n",
       "      <th>15</th>\n",
       "      <td>PAY_AMT5</td>\n",
       "      <td>0.015962</td>\n",
       "    </tr>\n",
       "    <tr>\n",
       "      <th>10</th>\n",
       "      <td>BILL_AMT6</td>\n",
       "      <td>0.014293</td>\n",
       "    </tr>\n",
       "    <tr>\n",
       "      <th>8</th>\n",
       "      <td>BILL_AMT4</td>\n",
       "      <td>0.013454</td>\n",
       "    </tr>\n",
       "    <tr>\n",
       "      <th>7</th>\n",
       "      <td>BILL_AMT3</td>\n",
       "      <td>0.013321</td>\n",
       "    </tr>\n",
       "    <tr>\n",
       "      <th>16</th>\n",
       "      <td>PAY_AMT6</td>\n",
       "      <td>0.011831</td>\n",
       "    </tr>\n",
       "    <tr>\n",
       "      <th>9</th>\n",
       "      <td>BILL_AMT5</td>\n",
       "      <td>0.011264</td>\n",
       "    </tr>\n",
       "    <tr>\n",
       "      <th>5</th>\n",
       "      <td>BILL_AMT1</td>\n",
       "      <td>0.008574</td>\n",
       "    </tr>\n",
       "    <tr>\n",
       "      <th>1</th>\n",
       "      <td>EDUCATION</td>\n",
       "      <td>0.001630</td>\n",
       "    </tr>\n",
       "    <tr>\n",
       "      <th>3</th>\n",
       "      <td>AGE</td>\n",
       "      <td>0.000459</td>\n",
       "    </tr>\n",
       "    <tr>\n",
       "      <th>2</th>\n",
       "      <td>MARRIAGE</td>\n",
       "      <td>0.000170</td>\n",
       "    </tr>\n",
       "  </tbody>\n",
       "</table>\n",
       "</div>"
      ],
      "text/plain": [
       "   Feature name  Importance\n",
       "4         PAY_1    0.609609\n",
       "11     PAY_AMT1    0.094123\n",
       "0     LIMIT_BAL    0.079265\n",
       "13     PAY_AMT3    0.047067\n",
       "12     PAY_AMT2    0.035393\n",
       "6     BILL_AMT2    0.022422\n",
       "14     PAY_AMT4    0.021164\n",
       "15     PAY_AMT5    0.015962\n",
       "10    BILL_AMT6    0.014293\n",
       "8     BILL_AMT4    0.013454\n",
       "7     BILL_AMT3    0.013321\n",
       "16     PAY_AMT6    0.011831\n",
       "9     BILL_AMT5    0.011264\n",
       "5     BILL_AMT1    0.008574\n",
       "1     EDUCATION    0.001630\n",
       "3           AGE    0.000459\n",
       "2      MARRIAGE    0.000170"
      ]
     },
     "execution_count": 45,
     "metadata": {},
     "output_type": "execute_result"
    }
   ],
   "source": [
    "feat_imp_df = pd.DataFrame({\n",
    "    'Feature name':features_response[:-1]\n",
    "    'Importance':cv_rf_ex.best_estimator_.feature_importances_\n",
    "})\n",
    "\n",
    "feat_imp_df.sort_values('Importance', ascending=False)"
   ]
  },
  {
   "cell_type": "markdown",
   "metadata": {},
   "source": [
    "Nesse código, criamos um dicionário com os nomes e a importância das caracteristicas. A importância das características veio do método *best_estimator* do objeto de validação cruzada ajustado. Essa é uma maneira de acessarmos o objeto de modelo de floresta aleatória que foi treinado com todos os dados de treinamento usando os melhores hiperparâmetros que visualizamos na etapa anterior: *feature_importances* é um método que pode ser usado em modelos de floresta aleatória ajustados. Após inserir os nomes e a impooortância das características em um dicionário, criamos o DataFrame e depois exebimos classifcado na ordem decrescente por importância. Observe que as 5 características mais importantes da floresta aleatória  são as mesmas selecionadas por um teste F ANOVA no *Capítulo 3, Detalhes da regressão logística e exploração de características, embora estejam em uma ordem um pouco diferente. Essa é uma boa confirmação entre os diferentes métodos.\n",
    "\n",
    "---"
   ]
  },
  {
   "cell_type": "markdown",
   "metadata": {},
   "source": [
    "### Atividade 5: Busca em grade na validação cruzada com floresta aleatória\n",
    "\n",
    "Nesta atividade, você conduzirá uma busca em grade pelas diversas árvores da floresta (*n_estimators*) e até a profundidade máxima de uma árvore (*max_depth*) do modelo de floresta aleatória com os dados do estudo de caso. Em seguida, criará uma visualização exibindo o resultado da média de teste para a grade de hiperparâmetros que pesquisou. Execute as etapas a seguir para concluir a atividade:"
   ]
  },
  {
   "cell_type": "markdown",
   "metadata": {},
   "source": [
    "1. Crie um dicionário representando a grade para os hiperparâmetros *max_depth* e *n_estimators* que serão pesquisados. Inclua as profundidadaes 3, 6, 9, e 12, e 10, 50, 100 e 200 árvores. Deixe os outros hiperparâmetros com seus padrões."
   ]
  },
  {
   "cell_type": "code",
   "execution_count": 52,
   "metadata": {},
   "outputs": [],
   "source": [
    "rf_params = {'max_depth': [3, 6, 9, 12],\n",
    "             'n_estimators': [10, 50, 100, 200]}"
   ]
  },
  {
   "cell_type": "markdown",
   "metadata": {},
   "source": [
    "Para fins deste livro, usaremos *max_features='sqrt'* e limitaremos nossa exploração a *max_depth* e *n_estimators* para termos um runtime mais curto. Em uma situação do mundo real, você deve explorar outros hiperparâmetros de acordo com o tempo de computação que tiver. Lembre-se de que, para pesquisar em espaços de parâmetros especialmente grandes, você pode usuar *RandomizedSearchCV* a fim de evitar calcular exaustivamente métricas para cada combinação de hiperparâmetros na grade."
   ]
  },
  {
   "cell_type": "markdown",
   "metadata": {},
   "source": [
    "2. Instacie um objeto *GridSearchCV* usando as mesmas opções que empregamos anteriormente neste capítulo, mas com o dicionário de hiperparâmetros criado na etapa 1 desta atividade. Configure *verbose=2* para ver a saída de cada ajuste executado. Você pode reutilizar o mesmo objeto de modelo de floresta aleatória rf que estivemos usando."
   ]
  },
  {
   "cell_type": "code",
   "execution_count": 53,
   "metadata": {},
   "outputs": [],
   "source": [
    "cv_rf = GridSearchCV(rf, param_grid=rf_params, scoring='roc_auc', n_jobs=None, refit=True, cv=4, verbose=2, pre_dispatch='None', error_score='raise', return_train_score=True)"
   ]
  },
  {
   "cell_type": "markdown",
   "metadata": {},
   "source": [
    "3. Ajuste o objeto *GridSearchCV* com os dados de treinamento."
   ]
  },
  {
   "cell_type": "code",
   "execution_count": 54,
   "metadata": {},
   "outputs": [
    {
     "name": "stdout",
     "output_type": "stream",
     "text": [
      "Fitting 4 folds for each of 16 candidates, totalling 64 fits\n",
      "[CV] END .......................max_depth=3, n_estimators=10; total time=   0.2s\n",
      "[CV] END .......................max_depth=3, n_estimators=10; total time=   0.2s\n",
      "[CV] END .......................max_depth=3, n_estimators=10; total time=   0.2s\n",
      "[CV] END .......................max_depth=3, n_estimators=10; total time=   0.2s\n",
      "[CV] END .......................max_depth=3, n_estimators=50; total time=   0.7s\n",
      "[CV] END .......................max_depth=3, n_estimators=50; total time=   0.6s\n",
      "[CV] END .......................max_depth=3, n_estimators=50; total time=   0.6s\n",
      "[CV] END .......................max_depth=3, n_estimators=50; total time=   0.6s\n",
      "[CV] END ......................max_depth=3, n_estimators=100; total time=   1.3s\n",
      "[CV] END ......................max_depth=3, n_estimators=100; total time=   1.2s\n",
      "[CV] END ......................max_depth=3, n_estimators=100; total time=   1.2s\n",
      "[CV] END ......................max_depth=3, n_estimators=100; total time=   1.2s\n",
      "[CV] END ......................max_depth=3, n_estimators=200; total time=   2.5s\n",
      "[CV] END ......................max_depth=3, n_estimators=200; total time=   2.5s\n",
      "[CV] END ......................max_depth=3, n_estimators=200; total time=   2.5s\n",
      "[CV] END ......................max_depth=3, n_estimators=200; total time=   2.5s\n",
      "[CV] END .......................max_depth=6, n_estimators=10; total time=   0.2s\n",
      "[CV] END .......................max_depth=6, n_estimators=10; total time=   0.2s\n",
      "[CV] END .......................max_depth=6, n_estimators=10; total time=   0.2s\n",
      "[CV] END .......................max_depth=6, n_estimators=10; total time=   0.2s\n",
      "[CV] END .......................max_depth=6, n_estimators=50; total time=   1.1s\n",
      "[CV] END .......................max_depth=6, n_estimators=50; total time=   1.1s\n",
      "[CV] END .......................max_depth=6, n_estimators=50; total time=   1.1s\n",
      "[CV] END .......................max_depth=6, n_estimators=50; total time=   1.1s\n",
      "[CV] END ......................max_depth=6, n_estimators=100; total time=   2.2s\n",
      "[CV] END ......................max_depth=6, n_estimators=100; total time=   2.1s\n",
      "[CV] END ......................max_depth=6, n_estimators=100; total time=   2.2s\n",
      "[CV] END ......................max_depth=6, n_estimators=100; total time=   2.2s\n",
      "[CV] END ......................max_depth=6, n_estimators=200; total time=   4.3s\n",
      "[CV] END ......................max_depth=6, n_estimators=200; total time=   4.3s\n",
      "[CV] END ......................max_depth=6, n_estimators=200; total time=   4.3s\n",
      "[CV] END ......................max_depth=6, n_estimators=200; total time=   4.3s\n",
      "[CV] END .......................max_depth=9, n_estimators=10; total time=   0.3s\n",
      "[CV] END .......................max_depth=9, n_estimators=10; total time=   0.3s\n",
      "[CV] END .......................max_depth=9, n_estimators=10; total time=   0.3s\n",
      "[CV] END .......................max_depth=9, n_estimators=10; total time=   0.3s\n",
      "[CV] END .......................max_depth=9, n_estimators=50; total time=   1.5s\n",
      "[CV] END .......................max_depth=9, n_estimators=50; total time=   1.5s\n",
      "[CV] END .......................max_depth=9, n_estimators=50; total time=   1.5s\n",
      "[CV] END .......................max_depth=9, n_estimators=50; total time=   1.5s\n",
      "[CV] END ......................max_depth=9, n_estimators=100; total time=   3.0s\n",
      "[CV] END ......................max_depth=9, n_estimators=100; total time=   3.0s\n",
      "[CV] END ......................max_depth=9, n_estimators=100; total time=   3.0s\n",
      "[CV] END ......................max_depth=9, n_estimators=100; total time=   3.0s\n",
      "[CV] END ......................max_depth=9, n_estimators=200; total time=   6.0s\n",
      "[CV] END ......................max_depth=9, n_estimators=200; total time=   6.1s\n",
      "[CV] END ......................max_depth=9, n_estimators=200; total time=   6.0s\n",
      "[CV] END ......................max_depth=9, n_estimators=200; total time=   6.1s\n",
      "[CV] END ......................max_depth=12, n_estimators=10; total time=   0.4s\n",
      "[CV] END ......................max_depth=12, n_estimators=10; total time=   0.4s\n",
      "[CV] END ......................max_depth=12, n_estimators=10; total time=   0.4s\n",
      "[CV] END ......................max_depth=12, n_estimators=10; total time=   0.4s\n",
      "[CV] END ......................max_depth=12, n_estimators=50; total time=   1.9s\n",
      "[CV] END ......................max_depth=12, n_estimators=50; total time=   1.9s\n",
      "[CV] END ......................max_depth=12, n_estimators=50; total time=   1.9s\n",
      "[CV] END ......................max_depth=12, n_estimators=50; total time=   1.9s\n",
      "[CV] END .....................max_depth=12, n_estimators=100; total time=   3.9s\n",
      "[CV] END .....................max_depth=12, n_estimators=100; total time=   3.8s\n",
      "[CV] END .....................max_depth=12, n_estimators=100; total time=   3.8s\n",
      "[CV] END .....................max_depth=12, n_estimators=100; total time=   3.8s\n",
      "[CV] END .....................max_depth=12, n_estimators=200; total time=   7.7s\n",
      "[CV] END .....................max_depth=12, n_estimators=200; total time=   7.6s\n",
      "[CV] END .....................max_depth=12, n_estimators=200; total time=   7.6s\n",
      "[CV] END .....................max_depth=12, n_estimators=200; total time=   7.7s\n"
     ]
    },
    {
     "data": {
      "text/html": [
       "<style>#sk-container-id-4 {color: black;}#sk-container-id-4 pre{padding: 0;}#sk-container-id-4 div.sk-toggleable {background-color: white;}#sk-container-id-4 label.sk-toggleable__label {cursor: pointer;display: block;width: 100%;margin-bottom: 0;padding: 0.3em;box-sizing: border-box;text-align: center;}#sk-container-id-4 label.sk-toggleable__label-arrow:before {content: \"▸\";float: left;margin-right: 0.25em;color: #696969;}#sk-container-id-4 label.sk-toggleable__label-arrow:hover:before {color: black;}#sk-container-id-4 div.sk-estimator:hover label.sk-toggleable__label-arrow:before {color: black;}#sk-container-id-4 div.sk-toggleable__content {max-height: 0;max-width: 0;overflow: hidden;text-align: left;background-color: #f0f8ff;}#sk-container-id-4 div.sk-toggleable__content pre {margin: 0.2em;color: black;border-radius: 0.25em;background-color: #f0f8ff;}#sk-container-id-4 input.sk-toggleable__control:checked~div.sk-toggleable__content {max-height: 200px;max-width: 100%;overflow: auto;}#sk-container-id-4 input.sk-toggleable__control:checked~label.sk-toggleable__label-arrow:before {content: \"▾\";}#sk-container-id-4 div.sk-estimator input.sk-toggleable__control:checked~label.sk-toggleable__label {background-color: #d4ebff;}#sk-container-id-4 div.sk-label input.sk-toggleable__control:checked~label.sk-toggleable__label {background-color: #d4ebff;}#sk-container-id-4 input.sk-hidden--visually {border: 0;clip: rect(1px 1px 1px 1px);clip: rect(1px, 1px, 1px, 1px);height: 1px;margin: -1px;overflow: hidden;padding: 0;position: absolute;width: 1px;}#sk-container-id-4 div.sk-estimator {font-family: monospace;background-color: #f0f8ff;border: 1px dotted black;border-radius: 0.25em;box-sizing: border-box;margin-bottom: 0.5em;}#sk-container-id-4 div.sk-estimator:hover {background-color: #d4ebff;}#sk-container-id-4 div.sk-parallel-item::after {content: \"\";width: 100%;border-bottom: 1px solid gray;flex-grow: 1;}#sk-container-id-4 div.sk-label:hover label.sk-toggleable__label {background-color: #d4ebff;}#sk-container-id-4 div.sk-serial::before {content: \"\";position: absolute;border-left: 1px solid gray;box-sizing: border-box;top: 0;bottom: 0;left: 50%;z-index: 0;}#sk-container-id-4 div.sk-serial {display: flex;flex-direction: column;align-items: center;background-color: white;padding-right: 0.2em;padding-left: 0.2em;position: relative;}#sk-container-id-4 div.sk-item {position: relative;z-index: 1;}#sk-container-id-4 div.sk-parallel {display: flex;align-items: stretch;justify-content: center;background-color: white;position: relative;}#sk-container-id-4 div.sk-item::before, #sk-container-id-4 div.sk-parallel-item::before {content: \"\";position: absolute;border-left: 1px solid gray;box-sizing: border-box;top: 0;bottom: 0;left: 50%;z-index: -1;}#sk-container-id-4 div.sk-parallel-item {display: flex;flex-direction: column;z-index: 1;position: relative;background-color: white;}#sk-container-id-4 div.sk-parallel-item:first-child::after {align-self: flex-end;width: 50%;}#sk-container-id-4 div.sk-parallel-item:last-child::after {align-self: flex-start;width: 50%;}#sk-container-id-4 div.sk-parallel-item:only-child::after {width: 0;}#sk-container-id-4 div.sk-dashed-wrapped {border: 1px dashed gray;margin: 0 0.4em 0.5em 0.4em;box-sizing: border-box;padding-bottom: 0.4em;background-color: white;}#sk-container-id-4 div.sk-label label {font-family: monospace;font-weight: bold;display: inline-block;line-height: 1.2em;}#sk-container-id-4 div.sk-label-container {text-align: center;}#sk-container-id-4 div.sk-container {/* jupyter's `normalize.less` sets `[hidden] { display: none; }` but bootstrap.min.css set `[hidden] { display: none !important; }` so we also need the `!important` here to be able to override the default hidden behavior on the sphinx rendered scikit-learn.org. See: https://github.com/scikit-learn/scikit-learn/issues/21755 */display: inline-block !important;position: relative;}#sk-container-id-4 div.sk-text-repr-fallback {display: none;}</style><div id=\"sk-container-id-4\" class=\"sk-top-container\"><div class=\"sk-text-repr-fallback\"><pre>GridSearchCV(cv=4, error_score=&#x27;raise&#x27;,\n",
       "             estimator=RandomForestClassifier(max_depth=3, n_estimators=10,\n",
       "                                              random_state=4),\n",
       "             param_grid={&#x27;max_depth&#x27;: [3, 6, 9, 12],\n",
       "                         &#x27;n_estimators&#x27;: [10, 50, 100, 200]},\n",
       "             pre_dispatch=&#x27;None&#x27;, return_train_score=True, scoring=&#x27;roc_auc&#x27;,\n",
       "             verbose=2)</pre><b>In a Jupyter environment, please rerun this cell to show the HTML representation or trust the notebook. <br />On GitHub, the HTML representation is unable to render, please try loading this page with nbviewer.org.</b></div><div class=\"sk-container\" hidden><div class=\"sk-item sk-dashed-wrapped\"><div class=\"sk-label-container\"><div class=\"sk-label sk-toggleable\"><input class=\"sk-toggleable__control sk-hidden--visually\" id=\"sk-estimator-id-8\" type=\"checkbox\" ><label for=\"sk-estimator-id-8\" class=\"sk-toggleable__label sk-toggleable__label-arrow\">GridSearchCV</label><div class=\"sk-toggleable__content\"><pre>GridSearchCV(cv=4, error_score=&#x27;raise&#x27;,\n",
       "             estimator=RandomForestClassifier(max_depth=3, n_estimators=10,\n",
       "                                              random_state=4),\n",
       "             param_grid={&#x27;max_depth&#x27;: [3, 6, 9, 12],\n",
       "                         &#x27;n_estimators&#x27;: [10, 50, 100, 200]},\n",
       "             pre_dispatch=&#x27;None&#x27;, return_train_score=True, scoring=&#x27;roc_auc&#x27;,\n",
       "             verbose=2)</pre></div></div></div><div class=\"sk-parallel\"><div class=\"sk-parallel-item\"><div class=\"sk-item\"><div class=\"sk-label-container\"><div class=\"sk-label sk-toggleable\"><input class=\"sk-toggleable__control sk-hidden--visually\" id=\"sk-estimator-id-9\" type=\"checkbox\" ><label for=\"sk-estimator-id-9\" class=\"sk-toggleable__label sk-toggleable__label-arrow\">estimator: RandomForestClassifier</label><div class=\"sk-toggleable__content\"><pre>RandomForestClassifier(max_depth=3, n_estimators=10, random_state=4)</pre></div></div></div><div class=\"sk-serial\"><div class=\"sk-item\"><div class=\"sk-estimator sk-toggleable\"><input class=\"sk-toggleable__control sk-hidden--visually\" id=\"sk-estimator-id-10\" type=\"checkbox\" ><label for=\"sk-estimator-id-10\" class=\"sk-toggleable__label sk-toggleable__label-arrow\">RandomForestClassifier</label><div class=\"sk-toggleable__content\"><pre>RandomForestClassifier(max_depth=3, n_estimators=10, random_state=4)</pre></div></div></div></div></div></div></div></div></div></div>"
      ],
      "text/plain": [
       "GridSearchCV(cv=4, error_score='raise',\n",
       "             estimator=RandomForestClassifier(max_depth=3, n_estimators=10,\n",
       "                                              random_state=4),\n",
       "             param_grid={'max_depth': [3, 6, 9, 12],\n",
       "                         'n_estimators': [10, 50, 100, 200]},\n",
       "             pre_dispatch='None', return_train_score=True, scoring='roc_auc',\n",
       "             verbose=2)"
      ]
     },
     "execution_count": 54,
     "metadata": {},
     "output_type": "execute_result"
    }
   ],
   "source": [
    "cv_rf.fit(X_train, y_train)"
   ]
  },
  {
   "cell_type": "markdown",
   "metadata": {},
   "source": [
    "4. Insira os resultados da busca em grade em um DataFrame do pandas."
   ]
  },
  {
   "cell_type": "code",
   "execution_count": 55,
   "metadata": {},
   "outputs": [],
   "source": [
    "cv_rf_results_df = pd.DataFrame(cv_rf.cv_results_)"
   ]
  },
  {
   "cell_type": "markdown",
   "metadata": {},
   "source": [
    "5. Crie uma visualização com *pcolormesh* da pontuação média de teste de cada combinação de hiperparâmetros."
   ]
  },
  {
   "cell_type": "code",
   "execution_count": 58,
   "metadata": {},
   "outputs": [
    {
     "data": {
      "text/plain": [
       "Text(0, 0.5, 'Maximum depth')"
      ]
     },
     "execution_count": 58,
     "metadata": {},
     "output_type": "execute_result"
    },
    {
     "data": {
      "image/png": "[encoded data removed]",
      "text/plain": [
       "<Figure size 640x480 with 2 Axes>"
      ]
     },
     "metadata": {},
     "output_type": "display_data"
    }
   ],
   "source": [
    "xx_rf, yy_rf = np.meshgrid(range(5), range(5))\n",
    "cm_rf = plt.cm.jet\n",
    "ax_rf = plt.axes()\n",
    "pcolor_graph = ax_rf.pcolormesh(xx_rf, yy_rf, cv_rf_results_df['mean_test_score'].values.reshape((4,4)), cmap=cm_rf)\n",
    "plt.colorbar(pcolor_graph, label='Average testing ROC AUC')\n",
    "ax_rf.set_aspect('equal')\n",
    "ax_rf.set_xticks([0.5, 1.5, 2.5, 3.5])\n",
    "ax_rf.set_yticks([0.5, 1.5, 2.5, 3.5])\n",
    "ax_rf.set_xticklabels([str(tick_label) for tick_label in rf_params['n_estimators']])\n",
    "ax_rf.set_yticklabels([str(tick_label) for tick_label in rf_params['max_depth']])\n",
    "ax_rf.set_xlabel('Number of trees')\n",
    "ax_rf.set_ylabel('Maximum depth')"
   ]
  },
  {
   "cell_type": "markdown",
   "metadata": {},
   "source": [
    "6. Decida que conjunto de hiperparâmetros usará"
   ]
  },
  {
   "cell_type": "markdown",
   "metadata": {},
   "source": [
    "O conjunto a ser usado deve ser o que demonstra uma maior média de teste do ROC AUC. Logo, devemos usar *max_depth = 9* e *n_estimators = 200."
   ]
  }
 ],
 "metadata": {
  "kernelspec": {
   "display_name": "python-alura",
   "language": "python",
   "name": "python3"
  },
  "language_info": {
   "codemirror_mode": {
    "name": "ipython",
    "version": 3
   },
   "file_extension": ".py",
   "mimetype": "text/x-python",
   "name": "python",
   "nbconvert_exporter": "python",
   "pygments_lexer": "ipython3",
   "version": "3.11.4"
  }
 },
 "nbformat": 4,
 "nbformat_minor": 2
}
